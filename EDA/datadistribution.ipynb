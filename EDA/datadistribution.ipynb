{
 "cells": [
  {
   "cell_type": "code",
   "execution_count": 2,
   "metadata": {},
   "outputs": [],
   "source": [
    "import pandas as pd\n",
    "import os"
   ]
  },
  {
   "cell_type": "code",
   "execution_count": 7,
   "metadata": {},
   "outputs": [],
   "source": [
    "CLASSES = ['A', 'B', 'C', 'D', 'E', 'F', 'G', 'H', 'I', 'J']\n",
    "class_num = [0]*10\n",
    "train_data = pd.read_csv('./data/train.csv')\n",
    "label_num_dist = [0]*10\n",
    "for idx, row in train_data.iterrows():\n",
    "    count = 0\n",
    "    if row.A == 1:\n",
    "        class_num[0] += 1\n",
    "        count += 1\n",
    "    if row.B == 1:\n",
    "        class_num[1] += 1\n",
    "        count += 1\n",
    "    if row.C == 1:\n",
    "        class_num[2] += 1\n",
    "        count += 1\n",
    "    if row.D == 1:\n",
    "        class_num[3] += 1\n",
    "        count += 1\n",
    "    if row.E == 1:\n",
    "        class_num[4] += 1\n",
    "        count += 1\n",
    "    if row.F == 1:\n",
    "        class_num[5] += 1\n",
    "        count += 1\n",
    "    if row.G == 1:\n",
    "        class_num[6] += 1\n",
    "        count += 1\n",
    "    if row.H == 1:\n",
    "        class_num[7] += 1\n",
    "        count += 1\n",
    "    if row.I == 1:\n",
    "        class_num[8] += 1\n",
    "        count += 1\n",
    "    if row.J == 1:\n",
    "        class_num[9] += 1\n",
    "        count += 1\n",
    "        \n",
    "    label_num_dist[count-1] += 1\n",
    "        "
   ]
  },
  {
   "cell_type": "code",
   "execution_count": 8,
   "metadata": {},
   "outputs": [
    {
     "data": {
      "text/plain": [
       "[14531, 14547, 14491, 14481, 14600, 14626, 14499, 14300, 14402, 14412]"
      ]
     },
     "execution_count": 8,
     "metadata": {},
     "output_type": "execute_result"
    }
   ],
   "source": [
    "class_num"
   ]
  },
  {
   "cell_type": "code",
   "execution_count": 9,
   "metadata": {},
   "outputs": [
    {
     "name": "stdout",
     "output_type": "stream",
     "text": [
      "A: 10.029%\n",
      "B: 10.040%\n",
      "C: 10.001%\n",
      "D: 9.995%\n",
      "E: 10.077%\n",
      "F: 10.095%\n",
      "G: 10.007%\n",
      "H: 9.870%\n",
      "I: 9.940%\n",
      "J: 9.947%\n"
     ]
    }
   ],
   "source": [
    "# 클래스 비율\n",
    "import numpy as np\n",
    "np_class = np.array(class_num)\n",
    "np_class = np_class / np.sum(np_class)\n",
    "\n",
    "for idx, c in enumerate(np_class):\n",
    "    print(f'{CLASSES[idx]}: {np_class[idx] * 100:.3f}%')"
   ]
  },
  {
   "cell_type": "code",
   "execution_count": 11,
   "metadata": {},
   "outputs": [
    {
     "name": "stdout",
     "output_type": "stream",
     "text": [
      "1 792\n",
      "2 2880\n",
      "3 5762\n",
      "4 8172\n",
      "5 6947\n",
      "6 5534\n",
      "7 2881\n",
      "8 1\n",
      "9 1\n",
      "10 24\n"
     ]
    }
   ],
   "source": [
    "# 레이블 개수에 따른 사진 갯수\n",
    "for idx, n in enumerate(label_num_dist, 1):\n",
    "    print(idx, n)"
   ]
  }
 ],
 "metadata": {
  "kernelspec": {
   "display_name": "Python 3.10.9 ('dacon_4dblock-ph1y52Bj')",
   "language": "python",
   "name": "python3"
  },
  "language_info": {
   "codemirror_mode": {
    "name": "ipython",
    "version": 3
   },
   "file_extension": ".py",
   "mimetype": "text/x-python",
   "name": "python",
   "nbconvert_exporter": "python",
   "pygments_lexer": "ipython3",
   "version": "3.10.9"
  },
  "orig_nbformat": 4,
  "vscode": {
   "interpreter": {
    "hash": "111931323c0a3ed4c2a8a90559ee2e97d6cc885307d2f2107684fec0905587b9"
   }
  }
 },
 "nbformat": 4,
 "nbformat_minor": 2
}
