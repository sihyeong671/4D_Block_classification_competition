{
 "cells": [
  {
   "cell_type": "code",
   "execution_count": 6,
   "metadata": {},
   "outputs": [],
   "source": [
    "import pandas as pd\n",
    "import os\n",
    "import numpy as np\n",
    "import random"
   ]
  },
  {
   "cell_type": "code",
   "execution_count": 7,
   "metadata": {},
   "outputs": [],
   "source": [
    "def seed_everything(seed):\n",
    "    random.seed(seed)\n",
    "    os.environ['PYTHONHASHSEED'] = str(seed)\n",
    "    np.random.seed(seed)"
   ]
  },
  {
   "cell_type": "code",
   "execution_count": 8,
   "metadata": {},
   "outputs": [],
   "source": [
    "seed_everything(777)"
   ]
  },
  {
   "cell_type": "code",
   "execution_count": 9,
   "metadata": {},
   "outputs": [],
   "source": [
    "train_data = pd.read_csv(\"../data/new_train.csv\")"
   ]
  },
  {
   "cell_type": "code",
   "execution_count": 10,
   "metadata": {},
   "outputs": [],
   "source": [
    "df = train_data.sample(frac=1)\n",
    "    \n",
    "train_len = int(len(df) * 0.8)\n",
    "train_df = df[:train_len]\n",
    "val_df = df[train_len:]"
   ]
  },
  {
   "cell_type": "code",
   "execution_count": 20,
   "metadata": {},
   "outputs": [],
   "source": [
    "CLASSES = ['A', 'B', 'C', 'D', 'E', 'F', 'G', 'H', 'I', 'J']\n",
    "class_num = [0]*10\n",
    "label_num_dist = [0]*10\n",
    "for idx, row in train_df.iterrows():\n",
    "    count = 0\n",
    "    if row.A == 1:\n",
    "        class_num[0] += 1\n",
    "        count += 1\n",
    "    if row.B == 1:\n",
    "        class_num[1] += 1\n",
    "        count += 1\n",
    "    if row.C == 1:\n",
    "        class_num[2] += 1\n",
    "        count += 1\n",
    "    if row.D == 1:\n",
    "        class_num[3] += 1\n",
    "        count += 1\n",
    "    if row.E == 1:\n",
    "        class_num[4] += 1\n",
    "        count += 1\n",
    "    if row.F == 1:\n",
    "        class_num[5] += 1\n",
    "        count += 1\n",
    "    if row.G == 1:\n",
    "        class_num[6] += 1\n",
    "        count += 1\n",
    "    if row.H == 1:\n",
    "        class_num[7] += 1\n",
    "        count += 1\n",
    "    if row.I == 1:\n",
    "        class_num[8] += 1\n",
    "        count += 1\n",
    "    if row.J == 1:\n",
    "        class_num[9] += 1\n",
    "        count += 1\n",
    "        \n",
    "    label_num_dist[count-1] += 1\n",
    "        "
   ]
  },
  {
   "cell_type": "code",
   "execution_count": 21,
   "metadata": {},
   "outputs": [
    {
     "data": {
      "text/plain": [
       "[18853, 18676, 18655, 18629, 18725, 18821, 18716, 18377, 18660, 18535]"
      ]
     },
     "execution_count": 21,
     "metadata": {},
     "output_type": "execute_result"
    }
   ],
   "source": [
    "class_num"
   ]
  },
  {
   "cell_type": "code",
   "execution_count": 22,
   "metadata": {},
   "outputs": [
    {
     "name": "stdout",
     "output_type": "stream",
     "text": [
      "A: 10.101%\n",
      "B: 10.006%\n",
      "C: 9.995%\n",
      "D: 9.981%\n",
      "E: 10.032%\n",
      "F: 10.084%\n",
      "G: 10.027%\n",
      "H: 9.846%\n",
      "I: 9.997%\n",
      "J: 9.931%\n"
     ]
    }
   ],
   "source": [
    "# 클래스 비율\n",
    "import numpy as np\n",
    "np_class = np.array(class_num)\n",
    "np_class = np_class / np.sum(np_class)\n",
    "\n",
    "for idx, c in enumerate(np_class):\n",
    "    print(f'{CLASSES[idx]}: {np_class[idx] * 100:.3f}%')"
   ]
  },
  {
   "cell_type": "code",
   "execution_count": 23,
   "metadata": {},
   "outputs": [
    {
     "name": "stdout",
     "output_type": "stream",
     "text": [
      "1 632\n",
      "2 2316\n",
      "3 4595\n",
      "4 6525\n",
      "5 5525\n",
      "6 4435\n",
      "7 2323\n",
      "8 2664\n",
      "9 2630\n",
      "10 2602\n"
     ]
    }
   ],
   "source": [
    "# 레이블 개수에 따른 사진 갯수\n",
    "for idx, n in enumerate(label_num_dist, 1):\n",
    "    print(idx, n)"
   ]
  },
  {
   "cell_type": "code",
   "execution_count": 16,
   "metadata": {},
   "outputs": [],
   "source": [
    "CLASSES = ['A', 'B', 'C', 'D', 'E', 'F', 'G', 'H', 'I', 'J']\n",
    "class_num = [0]*10\n",
    "label_num_dist = [0]*10\n",
    "for idx, row in val_df.iterrows():\n",
    "    count = 0\n",
    "    if row.A == 1:\n",
    "        class_num[0] += 1\n",
    "        count += 1\n",
    "    if row.B == 1:\n",
    "        class_num[1] += 1\n",
    "        count += 1\n",
    "    if row.C == 1:\n",
    "        class_num[2] += 1\n",
    "        count += 1\n",
    "    if row.D == 1:\n",
    "        class_num[3] += 1\n",
    "        count += 1\n",
    "    if row.E == 1:\n",
    "        class_num[4] += 1\n",
    "        count += 1\n",
    "    if row.F == 1:\n",
    "        class_num[5] += 1\n",
    "        count += 1\n",
    "    if row.G == 1:\n",
    "        class_num[6] += 1\n",
    "        count += 1\n",
    "    if row.H == 1:\n",
    "        class_num[7] += 1\n",
    "        count += 1\n",
    "    if row.I == 1:\n",
    "        class_num[8] += 1\n",
    "        count += 1\n",
    "    if row.J == 1:\n",
    "        class_num[9] += 1\n",
    "        count += 1\n",
    "        \n",
    "    label_num_dist[count-1] += 1\n",
    "        "
   ]
  },
  {
   "cell_type": "code",
   "execution_count": 17,
   "metadata": {},
   "outputs": [
    {
     "data": {
      "text/plain": [
       "[4669, 4615, 4645, 4673, 4720, 4629, 4624, 4630, 4617, 4671]"
      ]
     },
     "execution_count": 17,
     "metadata": {},
     "output_type": "execute_result"
    }
   ],
   "source": [
    "class_num"
   ]
  },
  {
   "cell_type": "code",
   "execution_count": 18,
   "metadata": {},
   "outputs": [
    {
     "name": "stdout",
     "output_type": "stream",
     "text": [
      "A: 10.042%\n",
      "B: 9.926%\n",
      "C: 9.991%\n",
      "D: 10.051%\n",
      "E: 10.152%\n",
      "F: 9.956%\n",
      "G: 9.946%\n",
      "H: 9.958%\n",
      "I: 9.931%\n",
      "J: 10.047%\n"
     ]
    }
   ],
   "source": [
    "# 클래스 비율\n",
    "import numpy as np\n",
    "np_class = np.array(class_num)\n",
    "np_class = np_class / np.sum(np_class)\n",
    "\n",
    "for idx, c in enumerate(np_class):\n",
    "    print(f'{CLASSES[idx]}: {np_class[idx] * 100:.3f}%')"
   ]
  },
  {
   "cell_type": "code",
   "execution_count": 19,
   "metadata": {},
   "outputs": [
    {
     "name": "stdout",
     "output_type": "stream",
     "text": [
      "1 160\n",
      "2 564\n",
      "3 1167\n",
      "4 1647\n",
      "5 1422\n",
      "6 1099\n",
      "7 558\n",
      "8 646\n",
      "9 652\n",
      "10 647\n"
     ]
    }
   ],
   "source": [
    "# 레이블 개수에 따른 사진 갯수\n",
    "for idx, n in enumerate(label_num_dist, 1):\n",
    "    print(idx, n)"
   ]
  }
 ],
 "metadata": {
  "kernelspec": {
   "display_name": "myvenv",
   "language": "python",
   "name": "python3"
  },
  "language_info": {
   "codemirror_mode": {
    "name": "ipython",
    "version": 3
   },
   "file_extension": ".py",
   "mimetype": "text/x-python",
   "name": "python",
   "nbconvert_exporter": "python",
   "pygments_lexer": "ipython3",
   "version": "3.10.7 (tags/v3.10.7:6cc6b13, Sep  5 2022, 14:08:36) [MSC v.1933 64 bit (AMD64)]"
  },
  "orig_nbformat": 4,
  "vscode": {
   "interpreter": {
    "hash": "d237e345f562da9ac6d0af92d4b6cd447951cedf1c9eefb6e9bf9729b17d0c58"
   }
  }
 },
 "nbformat": 4,
 "nbformat_minor": 2
}
