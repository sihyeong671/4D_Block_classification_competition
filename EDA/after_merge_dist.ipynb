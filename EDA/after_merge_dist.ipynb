{
 "cells": [
  {
   "cell_type": "code",
   "execution_count": 1,
   "metadata": {},
   "outputs": [],
   "source": [
    "import os\n",
    "import pandas as pd"
   ]
  },
  {
   "cell_type": "code",
   "execution_count": 3,
   "metadata": {},
   "outputs": [],
   "source": [
    "CLASSES = ['A', 'B', 'C', 'D', 'E', 'F', 'G', 'H', 'I', 'J']\n",
    "class_num = [0]*10\n",
    "train_data = pd.read_csv('../data/train.csv')\n",
    "label_num_dist = [0]*10\n",
    "for idx, row in train_data.iterrows():\n",
    "    count = 0\n",
    "    if row.A == 1:\n",
    "        class_num[0] += 1\n",
    "        count += 1\n",
    "    if row.B == 1:\n",
    "        class_num[1] += 1\n",
    "        count += 1\n",
    "    if row.C == 1:\n",
    "        class_num[2] += 1\n",
    "        count += 1\n",
    "    if row.D == 1:\n",
    "        class_num[3] += 1\n",
    "        count += 1\n",
    "    if row.E == 1:\n",
    "        class_num[4] += 1\n",
    "        count += 1\n",
    "    if row.F == 1:\n",
    "        class_num[5] += 1\n",
    "        count += 1\n",
    "    if row.G == 1:\n",
    "        class_num[6] += 1\n",
    "        count += 1\n",
    "    if row.H == 1:\n",
    "        class_num[7] += 1\n",
    "        count += 1\n",
    "    if row.I == 1:\n",
    "        class_num[8] += 1\n",
    "        count += 1\n",
    "    if row.J == 1:\n",
    "        class_num[9] += 1\n",
    "        count += 1\n",
    "        \n",
    "    label_num_dist[count-1] += 1"
   ]
  },
  {
   "cell_type": "code",
   "execution_count": 4,
   "metadata": {},
   "outputs": [
    {
     "data": {
      "text/plain": [
       "[17288, 17238, 17180, 17166, 17301, 17344, 17193, 16953, 17100, 17126]"
      ]
     },
     "execution_count": 4,
     "metadata": {},
     "output_type": "execute_result"
    }
   ],
   "source": [
    "class_num"
   ]
  },
  {
   "cell_type": "code",
   "execution_count": 5,
   "metadata": {},
   "outputs": [
    {
     "name": "stdout",
     "output_type": "stream",
     "text": [
      "A: 10.058%\n",
      "B: 10.029%\n",
      "C: 9.995%\n",
      "D: 9.987%\n",
      "E: 10.065%\n",
      "F: 10.090%\n",
      "G: 10.002%\n",
      "H: 9.863%\n",
      "I: 9.948%\n",
      "J: 9.963%\n"
     ]
    }
   ],
   "source": [
    "# 클래스 비율\n",
    "import numpy as np\n",
    "np_class = np.array(class_num)\n",
    "np_class = np_class / np.sum(np_class)\n",
    "\n",
    "for idx, c in enumerate(np_class):\n",
    "    print(f'{CLASSES[idx]}: {np_class[idx] * 100:.3f}%')"
   ]
  },
  {
   "cell_type": "code",
   "execution_count": 6,
   "metadata": {},
   "outputs": [
    {
     "name": "stdout",
     "output_type": "stream",
     "text": [
      "1 792\n",
      "2 2880\n",
      "3 5762\n",
      "4 8172\n",
      "5 6947\n",
      "6 5534\n",
      "7 2881\n",
      "8 1001\n",
      "9 1001\n",
      "10 1024\n"
     ]
    }
   ],
   "source": [
    "# 레이블 개수에 따른 사진 갯수\n",
    "for idx, n in enumerate(label_num_dist, 1):\n",
    "    print(idx, n)"
   ]
  }
 ],
 "metadata": {
  "kernelspec": {
   "display_name": "myvenv",
   "language": "python",
   "name": "python3"
  },
  "language_info": {
   "codemirror_mode": {
    "name": "ipython",
    "version": 3
   },
   "file_extension": ".py",
   "mimetype": "text/x-python",
   "name": "python",
   "nbconvert_exporter": "python",
   "pygments_lexer": "ipython3",
   "version": "3.10.7 (tags/v3.10.7:6cc6b13, Sep  5 2022, 14:08:36) [MSC v.1933 64 bit (AMD64)]"
  },
  "orig_nbformat": 4,
  "vscode": {
   "interpreter": {
    "hash": "d237e345f562da9ac6d0af92d4b6cd447951cedf1c9eefb6e9bf9729b17d0c58"
   }
  }
 },
 "nbformat": 4,
 "nbformat_minor": 2
}
