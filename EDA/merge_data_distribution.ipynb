{
 "cells": [
  {
   "cell_type": "code",
   "execution_count": 1,
   "metadata": {},
   "outputs": [],
   "source": [
    "import pandas as pd\n",
    "import os"
   ]
  },
  {
   "cell_type": "code",
   "execution_count": 3,
   "metadata": {},
   "outputs": [],
   "source": [
    "CLASSES = ['A', 'B', 'C', 'D', 'E', 'F', 'G', 'H', 'I', 'J']\n",
    "class_num = [0]*10\n",
    "train_data = pd.read_csv('../data/train.csv')\n",
    "label_num_dist = [0]*10\n",
    "for idx, row in train_data.iterrows():\n",
    "    count = 0\n",
    "    if row.A == 1:\n",
    "        class_num[0] += 1\n",
    "        count += 1\n",
    "    if row.B == 1:\n",
    "        class_num[1] += 1\n",
    "        count += 1\n",
    "    if row.C == 1:\n",
    "        class_num[2] += 1\n",
    "        count += 1\n",
    "    if row.D == 1:\n",
    "        class_num[3] += 1\n",
    "        count += 1\n",
    "    if row.E == 1:\n",
    "        class_num[4] += 1\n",
    "        count += 1\n",
    "    if row.F == 1:\n",
    "        class_num[5] += 1\n",
    "        count += 1\n",
    "    if row.G == 1:\n",
    "        class_num[6] += 1\n",
    "        count += 1\n",
    "    if row.H == 1:\n",
    "        class_num[7] += 1\n",
    "        count += 1\n",
    "    if row.I == 1:\n",
    "        class_num[8] += 1\n",
    "        count += 1\n",
    "    if row.J == 1:\n",
    "        class_num[9] += 1\n",
    "        count += 1\n",
    "        \n",
    "    label_num_dist[count-1] += 1\n",
    "        "
   ]
  },
  {
   "cell_type": "code",
   "execution_count": 4,
   "metadata": {},
   "outputs": [
    {
     "data": {
      "text/plain": [
       "[23525, 23285, 23303, 23295, 23373, 23457, 23319, 23078, 23276, 23246]"
      ]
     },
     "execution_count": 4,
     "metadata": {},
     "output_type": "execute_result"
    }
   ],
   "source": [
    "class_num"
   ]
  },
  {
   "cell_type": "code",
   "execution_count": 5,
   "metadata": {},
   "outputs": [
    {
     "name": "stdout",
     "output_type": "stream",
     "text": [
      "A: 10.090%\n",
      "B: 9.987%\n",
      "C: 9.995%\n",
      "D: 9.991%\n",
      "E: 10.025%\n",
      "F: 10.061%\n",
      "G: 10.001%\n",
      "H: 9.898%\n",
      "I: 9.983%\n",
      "J: 9.970%\n"
     ]
    }
   ],
   "source": [
    "# 클래스 비율\n",
    "import numpy as np\n",
    "np_class = np.array(class_num)\n",
    "np_class = np_class / np.sum(np_class)\n",
    "\n",
    "for idx, c in enumerate(np_class):\n",
    "    print(f'{CLASSES[idx]}: {np_class[idx] * 100:.3f}%')"
   ]
  },
  {
   "cell_type": "code",
   "execution_count": 6,
   "metadata": {},
   "outputs": [
    {
     "name": "stdout",
     "output_type": "stream",
     "text": [
      "1 792\n",
      "2 2880\n",
      "3 5762\n",
      "4 8172\n",
      "5 6947\n",
      "6 5534\n",
      "7 2881\n",
      "8 3311\n",
      "9 3283\n",
      "10 3249\n"
     ]
    }
   ],
   "source": [
    "# 레이블 개수에 따른 사진 갯수\n",
    "for idx, n in enumerate(label_num_dist, 1):\n",
    "    print(idx, n)"
   ]
  },
  {
   "cell_type": "code",
   "execution_count": null,
   "metadata": {},
   "outputs": [],
   "source": []
  }
 ],
 "metadata": {
  "kernelspec": {
   "display_name": "Python 3.7.15 ('q2l')",
   "language": "python",
   "name": "python3"
  },
  "language_info": {
   "codemirror_mode": {
    "name": "ipython",
    "version": 3
   },
   "file_extension": ".py",
   "mimetype": "text/x-python",
   "name": "python",
   "nbconvert_exporter": "python",
   "pygments_lexer": "ipython3",
   "version": "3.7.15"
  },
  "orig_nbformat": 4,
  "vscode": {
   "interpreter": {
    "hash": "4ff34980af0493bb29db9f332aecce24f44abc8cdf8c1e8e42b95320e74f1495"
   }
  }
 },
 "nbformat": 4,
 "nbformat_minor": 2
}
