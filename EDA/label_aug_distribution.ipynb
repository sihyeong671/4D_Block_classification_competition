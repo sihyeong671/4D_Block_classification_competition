{
 "cells": [
  {
   "cell_type": "code",
   "execution_count": 1,
   "metadata": {},
   "outputs": [],
   "source": [
    "import pandas as pd\n",
    "import os"
   ]
  },
  {
   "attachments": {},
   "cell_type": "markdown",
   "metadata": {},
   "source": [
    "### 1. 전체 분포"
   ]
  },
  {
   "cell_type": "code",
   "execution_count": 5,
   "metadata": {},
   "outputs": [],
   "source": [
    "CLASSES = ['A', 'B', 'C', 'D', 'E', 'F', 'G', 'H', 'I', 'J']\n",
    "class_num = [0]*10\n",
    "train_data = pd.read_csv('../data/igh_train_csv.csv')\n",
    "label_num_dist = [0]*10\n",
    "for idx, row in train_data.iterrows():\n",
    "    count = 0\n",
    "    if row.A == 1:\n",
    "        class_num[0] += 1\n",
    "        count += 1\n",
    "    if row.B == 1:\n",
    "        class_num[1] += 1\n",
    "        count += 1\n",
    "    if row.C == 1:\n",
    "        class_num[2] += 1\n",
    "        count += 1\n",
    "    if row.D == 1:\n",
    "        class_num[3] += 1\n",
    "        count += 1\n",
    "    if row.E == 1:\n",
    "        class_num[4] += 1\n",
    "        count += 1\n",
    "    if row.F == 1:\n",
    "        class_num[5] += 1\n",
    "        count += 1\n",
    "    if row.G == 1:\n",
    "        class_num[6] += 1\n",
    "        count += 1\n",
    "    if row.H == 1:\n",
    "        class_num[7] += 1\n",
    "        count += 1\n",
    "    if row.I == 1:\n",
    "        class_num[8] += 1\n",
    "        count += 1\n",
    "    if row.J == 1:\n",
    "        class_num[9] += 1\n",
    "        count += 1\n",
    "        \n",
    "    label_num_dist[count-1] += 1\n",
    "        "
   ]
  },
  {
   "cell_type": "code",
   "execution_count": 7,
   "metadata": {},
   "outputs": [
    {
     "data": {
      "text/plain": [
       "[23522, 23291, 23300, 23302, 23445, 23450, 23580, 23007, 23517, 23422]"
      ]
     },
     "execution_count": 7,
     "metadata": {},
     "output_type": "execute_result"
    }
   ],
   "source": [
    "class_num"
   ]
  },
  {
   "cell_type": "code",
   "execution_count": 8,
   "metadata": {},
   "outputs": [
    {
     "name": "stdout",
     "output_type": "stream",
     "text": [
      "A: 10.059%\n",
      "B: 9.960%\n",
      "C: 9.964%\n",
      "D: 9.965%\n",
      "E: 10.026%\n",
      "F: 10.028%\n",
      "G: 10.084%\n",
      "H: 9.839%\n",
      "I: 10.057%\n",
      "J: 10.016%\n"
     ]
    }
   ],
   "source": [
    "# 클래스 비율\n",
    "import numpy as np\n",
    "np_class = np.array(class_num)\n",
    "np_class = np_class / np.sum(np_class)\n",
    "\n",
    "for idx, c in enumerate(np_class):\n",
    "    print(f'{CLASSES[idx]}: {np_class[idx] * 100:.3f}%')"
   ]
  },
  {
   "cell_type": "code",
   "execution_count": 9,
   "metadata": {},
   "outputs": [
    {
     "name": "stdout",
     "output_type": "stream",
     "text": [
      "1 1488\n",
      "2 2880\n",
      "3 5762\n",
      "4 8172\n",
      "5 6947\n",
      "6 5534\n",
      "7 2881\n",
      "8 3310\n",
      "9 3282\n",
      "10 3249\n"
     ]
    }
   ],
   "source": [
    "# 레이블 개수에 따른 사진 갯수\n",
    "for idx, n in enumerate(label_num_dist, 1):\n",
    "    print(idx, n)"
   ]
  },
  {
   "cell_type": "code",
   "execution_count": 11,
   "metadata": {},
   "outputs": [],
   "source": [
    "import random"
   ]
  },
  {
   "cell_type": "code",
   "execution_count": 12,
   "metadata": {},
   "outputs": [],
   "source": [
    "def seed_everything(seed):\n",
    "    random.seed(seed)\n",
    "    os.environ['PYTHONHASHSEED'] = str(seed)\n",
    "    np.random.seed(seed)\n",
    "seed_everything(777)"
   ]
  },
  {
   "attachments": {},
   "cell_type": "markdown",
   "metadata": {},
   "source": [
    "### 2. train, val 분포"
   ]
  },
  {
   "attachments": {},
   "cell_type": "markdown",
   "metadata": {},
   "source": [
    "#### 2.1 train 분포"
   ]
  },
  {
   "cell_type": "code",
   "execution_count": 13,
   "metadata": {},
   "outputs": [],
   "source": [
    "df = train_data.sample(frac=1)\n",
    "    \n",
    "train_len = int(len(df) * 0.9)\n",
    "train_df = df[:train_len]\n",
    "val_df = df[train_len:]"
   ]
  },
  {
   "cell_type": "code",
   "execution_count": 22,
   "metadata": {},
   "outputs": [],
   "source": [
    "CLASSES = ['A', 'B', 'C', 'D', 'E', 'F', 'G', 'H', 'I', 'J']\n",
    "train_class_num = [0]*10\n",
    "train_label_num_dist = [0]*10\n",
    "for idx, row in train_df.iterrows():\n",
    "    count = 0\n",
    "    if row.A == 1:\n",
    "        train_class_num[0] += 1\n",
    "        count += 1\n",
    "    if row.B == 1:\n",
    "        train_class_num[1] += 1\n",
    "        count += 1\n",
    "    if row.C == 1:\n",
    "        train_class_num[2] += 1\n",
    "        count += 1\n",
    "    if row.D == 1:\n",
    "        train_class_num[3] += 1\n",
    "        count += 1\n",
    "    if row.E == 1:\n",
    "        train_class_num[4] += 1\n",
    "        count += 1\n",
    "    if row.F == 1:\n",
    "        train_class_num[5] += 1\n",
    "        count += 1\n",
    "    if row.G == 1:\n",
    "        train_class_num[6] += 1\n",
    "        count += 1\n",
    "    if row.H == 1:\n",
    "        train_class_num[7] += 1\n",
    "        count += 1\n",
    "    if row.I == 1:\n",
    "        train_class_num[8] += 1\n",
    "        count += 1\n",
    "    if row.J == 1:\n",
    "        train_class_num[9] += 1\n",
    "        count += 1\n",
    "        \n",
    "    train_label_num_dist[count-1] += 1\n",
    "        "
   ]
  },
  {
   "cell_type": "code",
   "execution_count": 23,
   "metadata": {},
   "outputs": [
    {
     "data": {
      "text/plain": [
       "[21204, 20983, 20992, 20982, 21076, 21121, 21260, 20662, 21196, 21056]"
      ]
     },
     "execution_count": 23,
     "metadata": {},
     "output_type": "execute_result"
    }
   ],
   "source": [
    "train_class_num"
   ]
  },
  {
   "cell_type": "code",
   "execution_count": 30,
   "metadata": {},
   "outputs": [
    {
     "name": "stdout",
     "output_type": "stream",
     "text": [
      "A: 10.072%\n",
      "B: 9.967%\n",
      "C: 9.971%\n",
      "D: 9.966%\n",
      "E: 10.011%\n",
      "F: 10.032%\n",
      "G: 10.098%\n",
      "H: 9.814%\n",
      "I: 10.068%\n",
      "J: 10.001%\n"
     ]
    }
   ],
   "source": [
    "# 클래스 비율\n",
    "import numpy as np\n",
    "train_np_class = np.array(train_class_num)\n",
    "train_np_class = train_np_class / np.sum(train_np_class)\n",
    "\n",
    "for idx, c in enumerate(train_np_class):\n",
    "    print(f'{CLASSES[idx]}: {train_np_class[idx] * 100:.3f}%')"
   ]
  },
  {
   "cell_type": "code",
   "execution_count": 33,
   "metadata": {},
   "outputs": [
    {
     "name": "stdout",
     "output_type": "stream",
     "text": [
      "1 1343\n",
      "2 2596\n",
      "3 5156\n",
      "4 7355\n",
      "5 6246\n",
      "6 4987\n",
      "7 2610\n",
      "8 2986\n",
      "9 2951\n",
      "10 2924\n"
     ]
    }
   ],
   "source": [
    "# 레이블 개수에 따른 사진 갯수\n",
    "for idx, n in enumerate(train_label_num_dist, 1):\n",
    "    print(idx, n)"
   ]
  },
  {
   "attachments": {},
   "cell_type": "markdown",
   "metadata": {},
   "source": [
    "#### 2.2 val 분포"
   ]
  },
  {
   "cell_type": "code",
   "execution_count": 26,
   "metadata": {},
   "outputs": [],
   "source": [
    "CLASSES = ['A', 'B', 'C', 'D', 'E', 'F', 'G', 'H', 'I', 'J']\n",
    "val_class_num = [0]*10\n",
    "val_label_num_dist = [0]*10\n",
    "for idx, row in val_df.iterrows():\n",
    "    count = 0\n",
    "    if row.A == 1:\n",
    "        val_class_num[0] += 1\n",
    "        count += 1\n",
    "    if row.B == 1:\n",
    "        val_class_num[1] += 1\n",
    "        count += 1\n",
    "    if row.C == 1:\n",
    "        val_class_num[2] += 1\n",
    "        count += 1\n",
    "    if row.D == 1:\n",
    "        val_class_num[3] += 1\n",
    "        count += 1\n",
    "    if row.E == 1:\n",
    "        val_class_num[4] += 1\n",
    "        count += 1\n",
    "    if row.F == 1:\n",
    "        val_class_num[5] += 1\n",
    "        count += 1\n",
    "    if row.G == 1:\n",
    "        val_class_num[6] += 1\n",
    "        count += 1\n",
    "    if row.H == 1:\n",
    "        val_class_num[7] += 1\n",
    "        count += 1\n",
    "    if row.I == 1:\n",
    "        val_class_num[8] += 1\n",
    "        count += 1\n",
    "    if row.J == 1:\n",
    "        val_class_num[9] += 1\n",
    "        count += 1\n",
    "        \n",
    "    val_label_num_dist[count-1] += 1\n",
    "        "
   ]
  },
  {
   "cell_type": "code",
   "execution_count": 27,
   "metadata": {},
   "outputs": [
    {
     "data": {
      "text/plain": [
       "[2318, 2308, 2308, 2320, 2369, 2329, 2320, 2345, 2321, 2366]"
      ]
     },
     "execution_count": 27,
     "metadata": {},
     "output_type": "execute_result"
    }
   ],
   "source": [
    "val_class_num"
   ]
  },
  {
   "cell_type": "code",
   "execution_count": 29,
   "metadata": {},
   "outputs": [
    {
     "name": "stdout",
     "output_type": "stream",
     "text": [
      "A: 9.947%\n",
      "B: 9.904%\n",
      "C: 9.904%\n",
      "D: 9.955%\n",
      "E: 10.166%\n",
      "F: 9.994%\n",
      "G: 9.955%\n",
      "H: 10.063%\n",
      "I: 9.960%\n",
      "J: 10.153%\n"
     ]
    }
   ],
   "source": [
    "# 클래스 비율\n",
    "import numpy as np\n",
    "val_np_class = np.array(val_class_num)\n",
    "val_np_class = val_np_class / np.sum(val_np_class)\n",
    "\n",
    "for idx, c in enumerate(val_np_class):\n",
    "    print(f'{CLASSES[idx]}: {val_np_class[idx] * 100:.3f}%')"
   ]
  },
  {
   "cell_type": "code",
   "execution_count": 31,
   "metadata": {},
   "outputs": [
    {
     "name": "stdout",
     "output_type": "stream",
     "text": [
      "1 145\n",
      "2 284\n",
      "3 606\n",
      "4 817\n",
      "5 701\n",
      "6 547\n",
      "7 271\n",
      "8 324\n",
      "9 331\n",
      "10 325\n"
     ]
    }
   ],
   "source": [
    "# 레이블 개수에 따른 사진 갯수\n",
    "for idx, n in enumerate(val_label_num_dist, 1):\n",
    "    print(idx, n)"
   ]
  },
  {
   "cell_type": "code",
   "execution_count": 41,
   "metadata": {},
   "outputs": [
    {
     "name": "stdout",
     "output_type": "stream",
     "text": [
      " train val\n",
      "0 1343 145\n",
      "1 2596 284\n",
      "2 5156 606\n",
      "3 7355 817\n",
      "4 6246 701\n",
      "5 4987 547\n",
      "6 2610 271\n",
      "7 2986 324\n",
      "8 2951 331\n",
      "9 2924 325\n"
     ]
    }
   ],
   "source": [
    "# train, val 라벨 비교\n",
    "print(\" train val\")\n",
    "for idx, n in enumerate(val_label_num_dist):\n",
    "    print(idx, train_label_num_dist[idx], val_label_num_dist[idx])"
   ]
  },
  {
   "cell_type": "code",
   "execution_count": 39,
   "metadata": {},
   "outputs": [
    {
     "name": "stdout",
     "output_type": "stream",
     "text": [
      "   train     val\n",
      "A: 10.072% , 9.947%\n",
      "B: 9.967% , 9.904%\n",
      "C: 9.971% , 9.904%\n",
      "D: 9.966% , 9.955%\n",
      "E: 10.011% , 10.166%\n",
      "F: 10.032% , 9.994%\n",
      "G: 10.098% , 9.955%\n",
      "H: 9.814% , 10.063%\n",
      "I: 10.068% , 9.960%\n",
      "J: 10.001% , 10.153%\n"
     ]
    }
   ],
   "source": [
    "# 클래스 비율 비교\n",
    "print(\"   train     val\")\n",
    "for idx, c in enumerate(val_np_class):\n",
    "    print(f'{CLASSES[idx]}: {train_np_class[idx] * 100:.3f}% , {val_np_class[idx] * 100:.3f}%')"
   ]
  },
  {
   "cell_type": "code",
   "execution_count": null,
   "metadata": {},
   "outputs": [],
   "source": []
  },
  {
   "cell_type": "code",
   "execution_count": null,
   "metadata": {},
   "outputs": [],
   "source": []
  }
 ],
 "metadata": {
  "kernelspec": {
   "display_name": "myvenv",
   "language": "python",
   "name": "python3"
  },
  "language_info": {
   "codemirror_mode": {
    "name": "ipython",
    "version": 3
   },
   "file_extension": ".py",
   "mimetype": "text/x-python",
   "name": "python",
   "nbconvert_exporter": "python",
   "pygments_lexer": "ipython3",
   "version": "3.10.7"
  },
  "orig_nbformat": 4,
  "vscode": {
   "interpreter": {
    "hash": "d237e345f562da9ac6d0af92d4b6cd447951cedf1c9eefb6e9bf9729b17d0c58"
   }
  }
 },
 "nbformat": 4,
 "nbformat_minor": 2
}
