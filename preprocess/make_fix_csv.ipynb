{
 "cells": [
  {
   "cell_type": "code",
   "execution_count": 22,
   "metadata": {},
   "outputs": [],
   "source": [
    "import pandas as pd\n",
    "import os\n",
    "from random import sample, choice\n",
    "from collections import defaultdict"
   ]
  },
  {
   "cell_type": "code",
   "execution_count": 8,
   "metadata": {},
   "outputs": [
    {
     "data": {
      "text/html": [
       "<div>\n",
       "<style scoped>\n",
       "    .dataframe tbody tr th:only-of-type {\n",
       "        vertical-align: middle;\n",
       "    }\n",
       "\n",
       "    .dataframe tbody tr th {\n",
       "        vertical-align: top;\n",
       "    }\n",
       "\n",
       "    .dataframe thead th {\n",
       "        text-align: right;\n",
       "    }\n",
       "</style>\n",
       "<table border=\"1\" class=\"dataframe\">\n",
       "  <thead>\n",
       "    <tr style=\"text-align: right;\">\n",
       "      <th></th>\n",
       "      <th>id</th>\n",
       "      <th>img_path</th>\n",
       "      <th>A</th>\n",
       "      <th>B</th>\n",
       "      <th>C</th>\n",
       "      <th>D</th>\n",
       "      <th>E</th>\n",
       "      <th>F</th>\n",
       "      <th>G</th>\n",
       "      <th>H</th>\n",
       "      <th>I</th>\n",
       "      <th>J</th>\n",
       "    </tr>\n",
       "  </thead>\n",
       "  <tbody>\n",
       "    <tr>\n",
       "      <th>0</th>\n",
       "      <td>TRAIN_00000</td>\n",
       "      <td>./train/TRAIN_00000.jpg</td>\n",
       "      <td>1</td>\n",
       "      <td>0</td>\n",
       "      <td>0</td>\n",
       "      <td>0</td>\n",
       "      <td>0</td>\n",
       "      <td>0</td>\n",
       "      <td>0</td>\n",
       "      <td>0</td>\n",
       "      <td>0</td>\n",
       "      <td>0</td>\n",
       "    </tr>\n",
       "    <tr>\n",
       "      <th>1</th>\n",
       "      <td>TRAIN_00001</td>\n",
       "      <td>./train/TRAIN_00001.jpg</td>\n",
       "      <td>1</td>\n",
       "      <td>0</td>\n",
       "      <td>0</td>\n",
       "      <td>0</td>\n",
       "      <td>0</td>\n",
       "      <td>0</td>\n",
       "      <td>0</td>\n",
       "      <td>0</td>\n",
       "      <td>0</td>\n",
       "      <td>0</td>\n",
       "    </tr>\n",
       "    <tr>\n",
       "      <th>2</th>\n",
       "      <td>TRAIN_00002</td>\n",
       "      <td>./train/TRAIN_00002.jpg</td>\n",
       "      <td>1</td>\n",
       "      <td>0</td>\n",
       "      <td>0</td>\n",
       "      <td>0</td>\n",
       "      <td>0</td>\n",
       "      <td>0</td>\n",
       "      <td>0</td>\n",
       "      <td>0</td>\n",
       "      <td>0</td>\n",
       "      <td>0</td>\n",
       "    </tr>\n",
       "    <tr>\n",
       "      <th>3</th>\n",
       "      <td>TRAIN_00003</td>\n",
       "      <td>./train/TRAIN_00003.jpg</td>\n",
       "      <td>1</td>\n",
       "      <td>0</td>\n",
       "      <td>0</td>\n",
       "      <td>0</td>\n",
       "      <td>0</td>\n",
       "      <td>0</td>\n",
       "      <td>0</td>\n",
       "      <td>0</td>\n",
       "      <td>0</td>\n",
       "      <td>0</td>\n",
       "    </tr>\n",
       "    <tr>\n",
       "      <th>4</th>\n",
       "      <td>TRAIN_00004</td>\n",
       "      <td>./train/TRAIN_00004.jpg</td>\n",
       "      <td>1</td>\n",
       "      <td>0</td>\n",
       "      <td>0</td>\n",
       "      <td>0</td>\n",
       "      <td>0</td>\n",
       "      <td>0</td>\n",
       "      <td>0</td>\n",
       "      <td>0</td>\n",
       "      <td>0</td>\n",
       "      <td>0</td>\n",
       "    </tr>\n",
       "  </tbody>\n",
       "</table>\n",
       "</div>"
      ],
      "text/plain": [
       "            id                 img_path  A  B  C  D  E  F  G  H  I  J\n",
       "0  TRAIN_00000  ./train/TRAIN_00000.jpg  1  0  0  0  0  0  0  0  0  0\n",
       "1  TRAIN_00001  ./train/TRAIN_00001.jpg  1  0  0  0  0  0  0  0  0  0\n",
       "2  TRAIN_00002  ./train/TRAIN_00002.jpg  1  0  0  0  0  0  0  0  0  0\n",
       "3  TRAIN_00003  ./train/TRAIN_00003.jpg  1  0  0  0  0  0  0  0  0  0\n",
       "4  TRAIN_00004  ./train/TRAIN_00004.jpg  1  0  0  0  0  0  0  0  0  0"
      ]
     },
     "execution_count": 8,
     "metadata": {},
     "output_type": "execute_result"
    }
   ],
   "source": [
    "data = pd.read_csv('../data/origin_train.csv')\n",
    "data.head()"
   ]
  },
  {
   "cell_type": "code",
   "execution_count": 19,
   "metadata": {},
   "outputs": [],
   "source": [
    "count_lst = []\n",
    "count = 0\n",
    "tmp = []\n",
    "tmp_id = ''\n",
    "rotate_imgs = defaultdict(list)\n",
    "flag = True\n",
    "for idx, row in data.iterrows():\n",
    "    if idx == 0:\n",
    "        tmp = list(row[2:])\n",
    "        tmp_id = row.id\n",
    "    else:\n",
    "        for i, j in zip(tmp, list(row[2:])):\n",
    "            if i != j:\n",
    "                flag = False\n",
    "    if flag:\n",
    "        rotate_imgs[tmp_id].append(row.id)\n",
    "    if not flag:\n",
    "        flag = True\n",
    "        tmp = list(row[2:])\n",
    "        count_lst.append((tmp_id, count))\n",
    "        tmp_id = row.id\n",
    "        rotate_imgs[tmp_id].append(row.id)\n",
    "        count = 1\n",
    "    else:\n",
    "        count += 1"
   ]
  },
  {
   "cell_type": "code",
   "execution_count": 20,
   "metadata": {},
   "outputs": [],
   "source": [
    "data_lst = []\n",
    "for idx, row in data.iterrows():\n",
    "    if row.id in [id for (id, c) in count_lst]:\n",
    "        data_lst.append((row.id, [row.A, row.B, row.C, row.D, row.E, row.F, row.G, row.H, row.I, row.J]))"
   ]
  },
  {
   "cell_type": "code",
   "execution_count": 11,
   "metadata": {},
   "outputs": [],
   "source": [
    "data_lst = sorted(data_lst, key=lambda x: sum(x[1]))"
   ]
  },
  {
   "cell_type": "code",
   "execution_count": 12,
   "metadata": {},
   "outputs": [],
   "source": [
    "l8 = []\n",
    "l9 = []\n",
    "l10 = []\n",
    "for i in range(len(data_lst)-1):\n",
    "    for j in range(i+1, len(data_lst)):\n",
    "        if sum(data_lst[i][1]) + sum(data_lst[j][1]) >= 8:\n",
    "            labels = [0]*10\n",
    "            for idx, (label1, label2) in enumerate(zip(data_lst[i][1], data_lst[j][1])):\n",
    "                if label1 == 1 or label2 == 1:\n",
    "                    labels[idx] = 1\n",
    "                c = sum(labels)\n",
    "            if c == 8:\n",
    "                l8.append((data_lst[i][0], data_lst[j][0], labels))\n",
    "            elif c == 9:\n",
    "                l9.append((data_lst[i][0], data_lst[j][0], labels))\n",
    "            elif c == 10:\n",
    "                l10.append((data_lst[i][0], data_lst[j][0], labels))"
   ]
  },
  {
   "cell_type": "code",
   "execution_count": 13,
   "metadata": {},
   "outputs": [
    {
     "name": "stdout",
     "output_type": "stream",
     "text": [
      "369955 162956 27064\n"
     ]
    }
   ],
   "source": [
    "print(len(l8), len(l9), len(l10))"
   ]
  },
  {
   "cell_type": "code",
   "execution_count": 21,
   "metadata": {},
   "outputs": [],
   "source": [
    "tmp8 = defaultdict(list)\n",
    "for id1, id2, label in l8:\n",
    "    if 31600 <= int(id1.split(\"_\")[-1]) <= 31711 and 31600 <= int(id2.split(\"_\")[-1]) <= 31711:\n",
    "        continue\n",
    "    tmp8[id1].append((id2, label))\n",
    "\n",
    "tmp9 = defaultdict(list)\n",
    "for id1, id2, label in l9:\n",
    "    if 31600 <= int(id1.split(\"_\")[-1]) <= 31711 and 31600 <= int(id2.split(\"_\")[-1]) <= 31711:\n",
    "        continue\n",
    "    tmp9[id1].append((id2, label))\n",
    "    \n",
    "tmp10 = defaultdict(list)\n",
    "for id1, id2, label in l10:\n",
    "    if 31600 <= int(id1.split(\"_\")[-1]) <= 31711 and 31600 <= int(id2.split(\"_\")[-1]) <= 31711:\n",
    "        continue\n",
    "    tmp10[id1].append((id2, label))"
   ]
  },
  {
   "cell_type": "code",
   "execution_count": 23,
   "metadata": {},
   "outputs": [],
   "source": [
    "with open('new_label8.csv', 'w') as f:\n",
    "    for id1, v in tmp8.items():\n",
    "        if len(v) >= 2:\n",
    "            r_samples = sample(v, 2)\n",
    "        else:\n",
    "            r_samples = v\n",
    "        for id2, label in r_samples:\n",
    "            random_rotate = choice(rotate_imgs[id1])\n",
    "            f.write(f\"{random_rotate},{id2},{','.join(map(str, label))}\\n\")"
   ]
  },
  {
   "cell_type": "code",
   "execution_count": 24,
   "metadata": {},
   "outputs": [],
   "source": [
    "with open('new_label9.csv', 'w') as f:\n",
    "    for id1, v in tmp9.items():\n",
    "        if len(v) >= 2:\n",
    "            r_samples = sample(v, 2)\n",
    "        else:\n",
    "            r_samples = v\n",
    "        for id2, label in r_samples:\n",
    "            random_rotate = choice(rotate_imgs[id1])\n",
    "            f.write(f\"{random_rotate},{id2},{','.join(map(str, label))}\\n\")"
   ]
  },
  {
   "cell_type": "code",
   "execution_count": 25,
   "metadata": {},
   "outputs": [],
   "source": [
    "with open('new_label10.csv', 'w') as f:\n",
    "    for id1, v in tmp10.items():\n",
    "        if len(v) >= 2:\n",
    "            r_samples = sample(v, 2)\n",
    "        else:\n",
    "            r_samples = v\n",
    "        for id2, label in r_samples:\n",
    "            random_rotate = choice(rotate_imgs[id1])\n",
    "            f.write(f\"{random_rotate},{id2},{','.join(map(str, label))}\\n\")"
   ]
  },
  {
   "cell_type": "code",
   "execution_count": null,
   "metadata": {},
   "outputs": [],
   "source": []
  }
 ],
 "metadata": {
  "kernelspec": {
   "display_name": "Python 3.7.15 ('q2l')",
   "language": "python",
   "name": "python3"
  },
  "language_info": {
   "codemirror_mode": {
    "name": "ipython",
    "version": 3
   },
   "file_extension": ".py",
   "mimetype": "text/x-python",
   "name": "python",
   "nbconvert_exporter": "python",
   "pygments_lexer": "ipython3",
   "version": "3.7.15"
  },
  "orig_nbformat": 4,
  "vscode": {
   "interpreter": {
    "hash": "4ff34980af0493bb29db9f332aecce24f44abc8cdf8c1e8e42b95320e74f1495"
   }
  }
 },
 "nbformat": 4,
 "nbformat_minor": 2
}
