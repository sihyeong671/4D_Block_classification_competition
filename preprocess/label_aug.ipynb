{
 "cells": [
  {
   "cell_type": "code",
   "execution_count": 2,
   "metadata": {},
   "outputs": [],
   "source": [
    "import pandas as pd"
   ]
  },
  {
   "cell_type": "code",
   "execution_count": 3,
   "metadata": {},
   "outputs": [],
   "source": [
    "train_df = pd.read_csv(\"../data/train.csv\")"
   ]
  },
  {
   "cell_type": "code",
   "execution_count": 4,
   "metadata": {},
   "outputs": [
    {
     "data": {
      "text/html": [
       "<div>\n",
       "<style scoped>\n",
       "    .dataframe tbody tr th:only-of-type {\n",
       "        vertical-align: middle;\n",
       "    }\n",
       "\n",
       "    .dataframe tbody tr th {\n",
       "        vertical-align: top;\n",
       "    }\n",
       "\n",
       "    .dataframe thead th {\n",
       "        text-align: right;\n",
       "    }\n",
       "</style>\n",
       "<table border=\"1\" class=\"dataframe\">\n",
       "  <thead>\n",
       "    <tr style=\"text-align: right;\">\n",
       "      <th></th>\n",
       "      <th>id</th>\n",
       "      <th>img_path</th>\n",
       "      <th>A</th>\n",
       "      <th>B</th>\n",
       "      <th>C</th>\n",
       "      <th>D</th>\n",
       "      <th>E</th>\n",
       "      <th>F</th>\n",
       "      <th>G</th>\n",
       "      <th>H</th>\n",
       "      <th>I</th>\n",
       "      <th>J</th>\n",
       "    </tr>\n",
       "  </thead>\n",
       "  <tbody>\n",
       "    <tr>\n",
       "      <th>0</th>\n",
       "      <td>TRAIN_00000</td>\n",
       "      <td>./train/TRAIN_00000.jpg</td>\n",
       "      <td>1</td>\n",
       "      <td>0</td>\n",
       "      <td>0</td>\n",
       "      <td>0</td>\n",
       "      <td>0</td>\n",
       "      <td>0</td>\n",
       "      <td>0</td>\n",
       "      <td>0</td>\n",
       "      <td>0</td>\n",
       "      <td>0</td>\n",
       "    </tr>\n",
       "    <tr>\n",
       "      <th>1</th>\n",
       "      <td>TRAIN_00001</td>\n",
       "      <td>./train/TRAIN_00001.jpg</td>\n",
       "      <td>1</td>\n",
       "      <td>0</td>\n",
       "      <td>0</td>\n",
       "      <td>0</td>\n",
       "      <td>0</td>\n",
       "      <td>0</td>\n",
       "      <td>0</td>\n",
       "      <td>0</td>\n",
       "      <td>0</td>\n",
       "      <td>0</td>\n",
       "    </tr>\n",
       "    <tr>\n",
       "      <th>2</th>\n",
       "      <td>TRAIN_00002</td>\n",
       "      <td>./train/TRAIN_00002.jpg</td>\n",
       "      <td>1</td>\n",
       "      <td>0</td>\n",
       "      <td>0</td>\n",
       "      <td>0</td>\n",
       "      <td>0</td>\n",
       "      <td>0</td>\n",
       "      <td>0</td>\n",
       "      <td>0</td>\n",
       "      <td>0</td>\n",
       "      <td>0</td>\n",
       "    </tr>\n",
       "    <tr>\n",
       "      <th>3</th>\n",
       "      <td>TRAIN_00003</td>\n",
       "      <td>./train/TRAIN_00003.jpg</td>\n",
       "      <td>1</td>\n",
       "      <td>0</td>\n",
       "      <td>0</td>\n",
       "      <td>0</td>\n",
       "      <td>0</td>\n",
       "      <td>0</td>\n",
       "      <td>0</td>\n",
       "      <td>0</td>\n",
       "      <td>0</td>\n",
       "      <td>0</td>\n",
       "    </tr>\n",
       "    <tr>\n",
       "      <th>4</th>\n",
       "      <td>TRAIN_00004</td>\n",
       "      <td>./train/TRAIN_00004.jpg</td>\n",
       "      <td>1</td>\n",
       "      <td>0</td>\n",
       "      <td>0</td>\n",
       "      <td>0</td>\n",
       "      <td>0</td>\n",
       "      <td>0</td>\n",
       "      <td>0</td>\n",
       "      <td>0</td>\n",
       "      <td>0</td>\n",
       "      <td>0</td>\n",
       "    </tr>\n",
       "    <tr>\n",
       "      <th>...</th>\n",
       "      <td>...</td>\n",
       "      <td>...</td>\n",
       "      <td>...</td>\n",
       "      <td>...</td>\n",
       "      <td>...</td>\n",
       "      <td>...</td>\n",
       "      <td>...</td>\n",
       "      <td>...</td>\n",
       "      <td>...</td>\n",
       "      <td>...</td>\n",
       "      <td>...</td>\n",
       "      <td>...</td>\n",
       "    </tr>\n",
       "    <tr>\n",
       "      <th>42806</th>\n",
       "      <td>TRAIN_42806</td>\n",
       "      <td>./train/TRAIN_42806.jpg</td>\n",
       "      <td>1</td>\n",
       "      <td>1</td>\n",
       "      <td>1</td>\n",
       "      <td>1</td>\n",
       "      <td>1</td>\n",
       "      <td>1</td>\n",
       "      <td>1</td>\n",
       "      <td>1</td>\n",
       "      <td>1</td>\n",
       "      <td>1</td>\n",
       "    </tr>\n",
       "    <tr>\n",
       "      <th>42807</th>\n",
       "      <td>TRAIN_42807</td>\n",
       "      <td>./train/TRAIN_42807.jpg</td>\n",
       "      <td>1</td>\n",
       "      <td>1</td>\n",
       "      <td>1</td>\n",
       "      <td>1</td>\n",
       "      <td>1</td>\n",
       "      <td>1</td>\n",
       "      <td>1</td>\n",
       "      <td>1</td>\n",
       "      <td>1</td>\n",
       "      <td>1</td>\n",
       "    </tr>\n",
       "    <tr>\n",
       "      <th>42808</th>\n",
       "      <td>TRAIN_42808</td>\n",
       "      <td>./train/TRAIN_42808.jpg</td>\n",
       "      <td>1</td>\n",
       "      <td>1</td>\n",
       "      <td>1</td>\n",
       "      <td>1</td>\n",
       "      <td>1</td>\n",
       "      <td>1</td>\n",
       "      <td>1</td>\n",
       "      <td>1</td>\n",
       "      <td>1</td>\n",
       "      <td>1</td>\n",
       "    </tr>\n",
       "    <tr>\n",
       "      <th>42809</th>\n",
       "      <td>TRAIN_42809</td>\n",
       "      <td>./train/TRAIN_42809.jpg</td>\n",
       "      <td>1</td>\n",
       "      <td>1</td>\n",
       "      <td>1</td>\n",
       "      <td>1</td>\n",
       "      <td>1</td>\n",
       "      <td>1</td>\n",
       "      <td>1</td>\n",
       "      <td>1</td>\n",
       "      <td>1</td>\n",
       "      <td>1</td>\n",
       "    </tr>\n",
       "    <tr>\n",
       "      <th>42810</th>\n",
       "      <td>TRAIN_42810</td>\n",
       "      <td>./train/TRAIN_42810.jpg</td>\n",
       "      <td>1</td>\n",
       "      <td>1</td>\n",
       "      <td>1</td>\n",
       "      <td>1</td>\n",
       "      <td>1</td>\n",
       "      <td>1</td>\n",
       "      <td>1</td>\n",
       "      <td>1</td>\n",
       "      <td>1</td>\n",
       "      <td>1</td>\n",
       "    </tr>\n",
       "  </tbody>\n",
       "</table>\n",
       "<p>42811 rows × 12 columns</p>\n",
       "</div>"
      ],
      "text/plain": [
       "                id                 img_path  A  B  C  D  E  F  G  H  I  J\n",
       "0      TRAIN_00000  ./train/TRAIN_00000.jpg  1  0  0  0  0  0  0  0  0  0\n",
       "1      TRAIN_00001  ./train/TRAIN_00001.jpg  1  0  0  0  0  0  0  0  0  0\n",
       "2      TRAIN_00002  ./train/TRAIN_00002.jpg  1  0  0  0  0  0  0  0  0  0\n",
       "3      TRAIN_00003  ./train/TRAIN_00003.jpg  1  0  0  0  0  0  0  0  0  0\n",
       "4      TRAIN_00004  ./train/TRAIN_00004.jpg  1  0  0  0  0  0  0  0  0  0\n",
       "...            ...                      ... .. .. .. .. .. .. .. .. .. ..\n",
       "42806  TRAIN_42806  ./train/TRAIN_42806.jpg  1  1  1  1  1  1  1  1  1  1\n",
       "42807  TRAIN_42807  ./train/TRAIN_42807.jpg  1  1  1  1  1  1  1  1  1  1\n",
       "42808  TRAIN_42808  ./train/TRAIN_42808.jpg  1  1  1  1  1  1  1  1  1  1\n",
       "42809  TRAIN_42809  ./train/TRAIN_42809.jpg  1  1  1  1  1  1  1  1  1  1\n",
       "42810  TRAIN_42810  ./train/TRAIN_42810.jpg  1  1  1  1  1  1  1  1  1  1\n",
       "\n",
       "[42811 rows x 12 columns]"
      ]
     },
     "execution_count": 4,
     "metadata": {},
     "output_type": "execute_result"
    }
   ],
   "source": [
    "train_df"
   ]
  },
  {
   "cell_type": "code",
   "execution_count": 17,
   "metadata": {},
   "outputs": [],
   "source": [
    "G_id = train_df[\"id\"][(train_df['G'] == 1) & (train_df['A'] == 0) & (train_df['B'] == 0) & (train_df['C'] == 0) & (train_df['D'] == 0) & (train_df['E'] == 0) & (train_df['F'] == 0)\\\n",
    "        & (train_df['H'] == 0) & (train_df['J'] == 0) & (train_df['I'] == 0)]\n",
    "\n",
    "I_id = train_df[\"id\"][(train_df['I'] == 1) & (train_df['A'] == 0) & (train_df['B'] == 0) & (train_df['C'] == 0) & (train_df['D'] == 0) & (train_df['E'] == 0) & (train_df['F'] == 0)\\\n",
    "        & (train_df['G'] == 0) & (train_df['H'] == 0) & (train_df['J'] == 0)]\n",
    "\n",
    "J_id = train_df[\"id\"][(train_df['J'] == 1) & (train_df['A'] == 0) & (train_df['B'] == 0) & (train_df['C'] == 0) & (train_df['D'] == 0) & (train_df['E'] == 0) & (train_df['F'] == 0)\\\n",
    "        & (train_df['G'] == 0) & (train_df['H'] == 0) & (train_df['I'] == 0)]\n"
   ]
  },
  {
   "cell_type": "code",
   "execution_count": 19,
   "metadata": {},
   "outputs": [
    {
     "name": "stdout",
     "output_type": "stream",
     "text": [
      "120\n",
      "48\n",
      "72\n"
     ]
    }
   ],
   "source": [
    "print(len(G_id))\n",
    "print(len(I_id))\n",
    "print(len(J_id))"
   ]
  },
  {
   "cell_type": "code",
   "execution_count": 20,
   "metadata": {},
   "outputs": [],
   "source": [
    "import pandas as pd\n",
    "import os\n",
    "import cv2\n",
    "from glob import glob\n",
    "from random import randint, sample\n",
    "from tqdm import tqdm\n",
    "import imutils\n",
    "import numpy as np"
   ]
  },
  {
   "cell_type": "code",
   "execution_count": 21,
   "metadata": {},
   "outputs": [],
   "source": [
    "os.makedirs('../data/G_label', exist_ok=True)\n",
    "os.makedirs('../data/I_label', exist_ok=True)\n",
    "os.makedirs('../data/J_label', exist_ok=True)"
   ]
  },
  {
   "cell_type": "code",
   "execution_count": 22,
   "metadata": {},
   "outputs": [],
   "source": [
    "bg_list = glob(\"../data/crawed_img/table/*.jpg\")"
   ]
  },
  {
   "cell_type": "code",
   "execution_count": 23,
   "metadata": {},
   "outputs": [
    {
     "name": "stdout",
     "output_type": "stream",
     "text": [
      "15414\n"
     ]
    }
   ],
   "source": [
    "print(len(bg_list))"
   ]
  },
  {
   "cell_type": "code",
   "execution_count": 11,
   "metadata": {},
   "outputs": [],
   "source": [
    "new_train_csv = pd.read_csv(\"../data/new_train.csv\")"
   ]
  },
  {
   "cell_type": "code",
   "execution_count": 24,
   "metadata": {},
   "outputs": [
    {
     "name": "stderr",
     "output_type": "stream",
     "text": [
      "4it [00:00, 20.40it/s]"
     ]
    },
    {
     "name": "stdout",
     "output_type": "stream",
     "text": [
      "../data/train/TRAIN_00144.jpg\n",
      "../data/train/TRAIN_00145.jpg\n",
      "../data/train/TRAIN_00146.jpg\n",
      "../data/train/TRAIN_00147.jpg\n",
      "../data/train/TRAIN_00148.jpg\n",
      "../data/train/TRAIN_00149.jpg\n"
     ]
    },
    {
     "name": "stderr",
     "output_type": "stream",
     "text": [
      "11it [00:00, 28.47it/s]"
     ]
    },
    {
     "name": "stdout",
     "output_type": "stream",
     "text": [
      "../data/train/TRAIN_00150.jpg\n",
      "../data/train/TRAIN_00151.jpg\n",
      "../data/train/TRAIN_00152.jpg\n",
      "../data/train/TRAIN_00153.jpg\n",
      "../data/train/TRAIN_00154.jpg\n",
      "../data/train/TRAIN_00155.jpg\n",
      "../data/train/TRAIN_00156.jpg\n",
      "../data/train/TRAIN_00157.jpg\n",
      "../data/train/TRAIN_00158.jpg\n"
     ]
    },
    {
     "name": "stderr",
     "output_type": "stream",
     "text": [
      "20it [00:00, 30.46it/s]"
     ]
    },
    {
     "name": "stdout",
     "output_type": "stream",
     "text": [
      "../data/train/TRAIN_00159.jpg\n",
      "../data/train/TRAIN_00160.jpg\n",
      "../data/train/TRAIN_00161.jpg\n",
      "../data/train/TRAIN_00162.jpg\n",
      "../data/train/TRAIN_00163.jpg\n",
      "../data/train/TRAIN_00164.jpg\n",
      "../data/train/TRAIN_00165.jpg\n"
     ]
    },
    {
     "name": "stderr",
     "output_type": "stream",
     "text": [
      "31it [00:00, 39.73it/s]"
     ]
    },
    {
     "name": "stdout",
     "output_type": "stream",
     "text": [
      "../data/train/TRAIN_00166.jpg\n",
      "../data/train/TRAIN_00167.jpg\n",
      "../data/train/TRAIN_22512.jpg\n",
      "../data/train/TRAIN_22513.jpg\n",
      "../data/train/TRAIN_22514.jpg\n",
      "../data/train/TRAIN_22515.jpg\n",
      "../data/train/TRAIN_22516.jpg\n",
      "../data/train/TRAIN_22517.jpg\n",
      "../data/train/TRAIN_22518.jpg\n"
     ]
    },
    {
     "name": "stderr",
     "output_type": "stream",
     "text": [
      "37it [00:01, 43.35it/s]"
     ]
    },
    {
     "name": "stdout",
     "output_type": "stream",
     "text": [
      "../data/train/TRAIN_22519.jpg\n",
      "../data/train/TRAIN_22520.jpg\n",
      "../data/train/TRAIN_22521.jpg\n",
      "../data/train/TRAIN_22522.jpg\n",
      "../data/train/TRAIN_22523.jpg\n",
      "../data/train/TRAIN_22524.jpg\n",
      "../data/train/TRAIN_22525.jpg\n",
      "../data/train/TRAIN_22526.jpg\n",
      "../data/train/TRAIN_22527.jpg\n",
      "../data/train/TRAIN_22528.jpg\n",
      "../data/train/TRAIN_22529.jpg\n",
      "../data/train/TRAIN_22530.jpg\n"
     ]
    },
    {
     "name": "stderr",
     "output_type": "stream",
     "text": [
      "43it [00:01, 45.44it/s]"
     ]
    },
    {
     "name": "stdout",
     "output_type": "stream",
     "text": [
      "../data/train/TRAIN_22531.jpg\n",
      "../data/train/TRAIN_22532.jpg\n",
      "../data/train/TRAIN_22533.jpg\n",
      "../data/train/TRAIN_22534.jpg\n"
     ]
    },
    {
     "name": "stderr",
     "output_type": "stream",
     "text": [
      "53it [00:01, 26.48it/s]"
     ]
    },
    {
     "name": "stdout",
     "output_type": "stream",
     "text": [
      "../data/train/TRAIN_22535.jpg\n",
      "../data/train/TRAIN_22536.jpg\n",
      "../data/train/TRAIN_22537.jpg\n",
      "../data/train/TRAIN_22538.jpg\n",
      "../data/train/TRAIN_22539.jpg\n",
      "../data/train/TRAIN_22540.jpg\n",
      "../data/train/TRAIN_22541.jpg\n",
      "../data/train/TRAIN_22542.jpg\n",
      "../data/train/TRAIN_22543.jpg\n",
      "../data/train/TRAIN_22544.jpg\n",
      "../data/train/TRAIN_22545.jpg\n"
     ]
    },
    {
     "name": "stderr",
     "output_type": "stream",
     "text": [
      "58it [00:01, 30.41it/s]"
     ]
    },
    {
     "name": "stdout",
     "output_type": "stream",
     "text": [
      "../data/train/TRAIN_22546.jpg\n",
      "../data/train/TRAIN_22547.jpg\n",
      "../data/train/TRAIN_22548.jpg\n"
     ]
    },
    {
     "name": "stderr",
     "output_type": "stream",
     "text": [
      "68it [00:02, 30.89it/s]"
     ]
    },
    {
     "name": "stdout",
     "output_type": "stream",
     "text": [
      "../data/train/TRAIN_22549.jpg\n",
      "../data/train/TRAIN_22550.jpg\n",
      "../data/train/TRAIN_22551.jpg\n",
      "../data/train/TRAIN_22552.jpg\n",
      "../data/train/TRAIN_22553.jpg\n",
      "../data/train/TRAIN_22554.jpg\n",
      "../data/train/TRAIN_22555.jpg\n",
      "../data/train/TRAIN_22556.jpg\n",
      "../data/train/TRAIN_22557.jpg\n",
      "../data/train/TRAIN_22558.jpg\n"
     ]
    },
    {
     "name": "stderr",
     "output_type": "stream",
     "text": [
      "78it [00:02, 32.86it/s]"
     ]
    },
    {
     "name": "stdout",
     "output_type": "stream",
     "text": [
      "../data/train/TRAIN_22559.jpg\n",
      "../data/train/TRAIN_22560.jpg\n",
      "../data/train/TRAIN_22561.jpg\n",
      "../data/train/TRAIN_22562.jpg\n",
      "../data/train/TRAIN_22563.jpg\n",
      "../data/train/TRAIN_22564.jpg\n",
      "../data/train/TRAIN_22565.jpg\n",
      "../data/train/TRAIN_22566.jpg\n",
      "../data/train/TRAIN_22567.jpg\n",
      "../data/train/TRAIN_22568.jpg\n"
     ]
    },
    {
     "name": "stderr",
     "output_type": "stream",
     "text": [
      "89it [00:02, 38.99it/s]"
     ]
    },
    {
     "name": "stdout",
     "output_type": "stream",
     "text": [
      "../data/train/TRAIN_22569.jpg\n",
      "../data/train/TRAIN_22570.jpg\n",
      "../data/train/TRAIN_22571.jpg\n",
      "../data/train/TRAIN_22572.jpg\n",
      "../data/train/TRAIN_22573.jpg\n",
      "../data/train/TRAIN_22574.jpg\n",
      "../data/train/TRAIN_22575.jpg\n",
      "../data/train/TRAIN_22576.jpg\n",
      "../data/train/TRAIN_22577.jpg\n",
      "../data/train/TRAIN_22578.jpg\n",
      "../data/train/TRAIN_22579.jpg\n",
      "../data/train/TRAIN_22580.jpg\n"
     ]
    },
    {
     "name": "stderr",
     "output_type": "stream",
     "text": [
      "101it [00:03, 45.51it/s]"
     ]
    },
    {
     "name": "stdout",
     "output_type": "stream",
     "text": [
      "../data/train/TRAIN_22581.jpg\n",
      "../data/train/TRAIN_22582.jpg\n",
      "../data/train/TRAIN_22583.jpg\n",
      "../data/train/TRAIN_22584.jpg\n",
      "../data/train/TRAIN_22585.jpg\n",
      "../data/train/TRAIN_22586.jpg\n",
      "../data/train/TRAIN_22587.jpg\n",
      "../data/train/TRAIN_22588.jpg\n",
      "../data/train/TRAIN_22589.jpg\n",
      "../data/train/TRAIN_22590.jpg\n",
      "../data/train/TRAIN_22591.jpg\n",
      "../data/train/TRAIN_22592.jpg\n"
     ]
    },
    {
     "name": "stderr",
     "output_type": "stream",
     "text": [
      "113it [00:03, 50.66it/s]"
     ]
    },
    {
     "name": "stdout",
     "output_type": "stream",
     "text": [
      "../data/train/TRAIN_22593.jpg\n",
      "../data/train/TRAIN_22594.jpg\n",
      "../data/train/TRAIN_22595.jpg\n",
      "../data/train/TRAIN_22596.jpg\n",
      "../data/train/TRAIN_22597.jpg\n",
      "../data/train/TRAIN_22598.jpg\n",
      "../data/train/TRAIN_22599.jpg\n",
      "../data/train/TRAIN_22600.jpg\n",
      "../data/train/TRAIN_22601.jpg\n",
      "../data/train/TRAIN_22602.jpg\n",
      "../data/train/TRAIN_22603.jpg\n",
      "../data/train/TRAIN_22604.jpg\n"
     ]
    },
    {
     "name": "stderr",
     "output_type": "stream",
     "text": [
      "120it [00:03, 35.25it/s]\n"
     ]
    },
    {
     "name": "stdout",
     "output_type": "stream",
     "text": [
      "../data/train/TRAIN_22605.jpg\n",
      "../data/train/TRAIN_22606.jpg\n",
      "../data/train/TRAIN_22607.jpg\n"
     ]
    },
    {
     "name": "stderr",
     "output_type": "stream",
     "text": [
      "0it [00:00, ?it/s]"
     ]
    },
    {
     "name": "stdout",
     "output_type": "stream",
     "text": [
      "../data/train/TRAIN_00144.jpg\n",
      "../data/train/TRAIN_00145.jpg\n",
      "../data/train/TRAIN_00146.jpg\n",
      "../data/train/TRAIN_00147.jpg\n",
      "../data/train/TRAIN_00148.jpg\n",
      "../data/train/TRAIN_00149.jpg\n"
     ]
    },
    {
     "name": "stderr",
     "output_type": "stream",
     "text": [
      "6it [00:00, 51.31it/s]"
     ]
    },
    {
     "name": "stdout",
     "output_type": "stream",
     "text": [
      "../data/train/TRAIN_00150.jpg\n",
      "../data/train/TRAIN_00151.jpg\n",
      "../data/train/TRAIN_00152.jpg\n",
      "../data/train/TRAIN_00153.jpg\n",
      "../data/train/TRAIN_00154.jpg\n"
     ]
    },
    {
     "name": "stderr",
     "output_type": "stream",
     "text": [
      "13it [00:00, 57.08it/s]"
     ]
    },
    {
     "name": "stdout",
     "output_type": "stream",
     "text": [
      "../data/train/TRAIN_00155.jpg\n",
      "../data/train/TRAIN_00156.jpg\n",
      "../data/train/TRAIN_00157.jpg\n",
      "../data/train/TRAIN_00158.jpg\n",
      "../data/train/TRAIN_00159.jpg\n",
      "../data/train/TRAIN_00160.jpg\n",
      "../data/train/TRAIN_00161.jpg\n",
      "../data/train/TRAIN_00162.jpg\n"
     ]
    },
    {
     "name": "stderr",
     "output_type": "stream",
     "text": [
      "20it [00:00, 59.45it/s]"
     ]
    },
    {
     "name": "stdout",
     "output_type": "stream",
     "text": [
      "../data/train/TRAIN_00163.jpg\n",
      "../data/train/TRAIN_00164.jpg\n",
      "../data/train/TRAIN_00165.jpg\n",
      "../data/train/TRAIN_00166.jpg\n",
      "../data/train/TRAIN_00167.jpg\n"
     ]
    },
    {
     "name": "stderr",
     "output_type": "stream",
     "text": [
      "26it [00:00, 59.57it/s]"
     ]
    },
    {
     "name": "stdout",
     "output_type": "stream",
     "text": [
      "../data/train/TRAIN_22512.jpg\n",
      "../data/train/TRAIN_22513.jpg\n",
      "../data/train/TRAIN_22514.jpg\n",
      "../data/train/TRAIN_22515.jpg\n",
      "../data/train/TRAIN_22516.jpg\n",
      "../data/train/TRAIN_22517.jpg\n",
      "../data/train/TRAIN_22518.jpg\n"
     ]
    },
    {
     "name": "stderr",
     "output_type": "stream",
     "text": [
      "32it [00:00, 59.49it/s]"
     ]
    },
    {
     "name": "stdout",
     "output_type": "stream",
     "text": [
      "../data/train/TRAIN_22519.jpg\n",
      "../data/train/TRAIN_22520.jpg\n",
      "../data/train/TRAIN_22521.jpg\n",
      "../data/train/TRAIN_22522.jpg\n",
      "../data/train/TRAIN_22523.jpg\n",
      "../data/train/TRAIN_22524.jpg\n"
     ]
    },
    {
     "name": "stderr",
     "output_type": "stream",
     "text": [
      "38it [00:00, 59.16it/s]"
     ]
    },
    {
     "name": "stdout",
     "output_type": "stream",
     "text": [
      "../data/train/TRAIN_22525.jpg\n",
      "../data/train/TRAIN_22526.jpg\n",
      "../data/train/TRAIN_22527.jpg\n",
      "../data/train/TRAIN_22528.jpg\n",
      "../data/train/TRAIN_22529.jpg\n",
      "../data/train/TRAIN_22530.jpg\n"
     ]
    },
    {
     "name": "stderr",
     "output_type": "stream",
     "text": [
      "44it [00:00, 58.74it/s]"
     ]
    },
    {
     "name": "stdout",
     "output_type": "stream",
     "text": [
      "../data/train/TRAIN_22531.jpg\n",
      "../data/train/TRAIN_22532.jpg\n",
      "../data/train/TRAIN_22533.jpg\n",
      "../data/train/TRAIN_22534.jpg\n",
      "../data/train/TRAIN_22535.jpg\n",
      "../data/train/TRAIN_22536.jpg\n",
      "../data/train/TRAIN_22537.jpg\n"
     ]
    },
    {
     "name": "stderr",
     "output_type": "stream",
     "text": [
      "50it [00:00, 58.13it/s]"
     ]
    },
    {
     "name": "stdout",
     "output_type": "stream",
     "text": [
      "../data/train/TRAIN_22538.jpg\n",
      "../data/train/TRAIN_22539.jpg\n",
      "../data/train/TRAIN_22540.jpg\n",
      "../data/train/TRAIN_22541.jpg\n",
      "../data/train/TRAIN_22542.jpg\n"
     ]
    },
    {
     "name": "stderr",
     "output_type": "stream",
     "text": [
      "62it [00:01, 58.48it/s]"
     ]
    },
    {
     "name": "stdout",
     "output_type": "stream",
     "text": [
      "../data/train/TRAIN_22543.jpg\n",
      "../data/train/TRAIN_22544.jpg\n",
      "../data/train/TRAIN_22545.jpg\n",
      "../data/train/TRAIN_22546.jpg\n",
      "../data/train/TRAIN_22547.jpg\n",
      "../data/train/TRAIN_22548.jpg\n",
      "../data/train/TRAIN_22549.jpg\n",
      "../data/train/TRAIN_22550.jpg\n",
      "../data/train/TRAIN_22551.jpg\n",
      "../data/train/TRAIN_22552.jpg\n",
      "../data/train/TRAIN_22553.jpg\n",
      "../data/train/TRAIN_22554.jpg\n",
      "../data/train/TRAIN_22555.jpg\n"
     ]
    },
    {
     "name": "stderr",
     "output_type": "stream",
     "text": [
      "68it [00:01, 58.20it/s]"
     ]
    },
    {
     "name": "stdout",
     "output_type": "stream",
     "text": [
      "../data/train/TRAIN_22556.jpg\n",
      "../data/train/TRAIN_22557.jpg\n",
      "../data/train/TRAIN_22558.jpg\n",
      "../data/train/TRAIN_22559.jpg\n",
      "../data/train/TRAIN_22560.jpg\n",
      "../data/train/TRAIN_22561.jpg\n"
     ]
    },
    {
     "name": "stderr",
     "output_type": "stream",
     "text": [
      "74it [00:01, 49.17it/s]"
     ]
    },
    {
     "name": "stdout",
     "output_type": "stream",
     "text": [
      "../data/train/TRAIN_22562.jpg\n",
      "../data/train/TRAIN_22563.jpg\n",
      "../data/train/TRAIN_22564.jpg\n"
     ]
    },
    {
     "name": "stderr",
     "output_type": "stream",
     "text": [
      "80it [00:01, 50.83it/s]"
     ]
    },
    {
     "name": "stdout",
     "output_type": "stream",
     "text": [
      "../data/train/TRAIN_22565.jpg\n",
      "../data/train/TRAIN_22566.jpg\n",
      "../data/train/TRAIN_22567.jpg\n",
      "../data/train/TRAIN_22568.jpg\n",
      "../data/train/TRAIN_22569.jpg\n",
      "../data/train/TRAIN_22570.jpg\n",
      "../data/train/TRAIN_22571.jpg\n",
      "../data/train/TRAIN_22572.jpg\n",
      "../data/train/TRAIN_22573.jpg\n"
     ]
    },
    {
     "name": "stderr",
     "output_type": "stream",
     "text": [
      "86it [00:01, 52.79it/s]"
     ]
    },
    {
     "name": "stdout",
     "output_type": "stream",
     "text": [
      "../data/train/TRAIN_22574.jpg\n",
      "../data/train/TRAIN_22575.jpg\n",
      "../data/train/TRAIN_22576.jpg\n"
     ]
    },
    {
     "name": "stderr",
     "output_type": "stream",
     "text": [
      "92it [00:01, 54.09it/s]"
     ]
    },
    {
     "name": "stdout",
     "output_type": "stream",
     "text": [
      "../data/train/TRAIN_22577.jpg\n",
      "../data/train/TRAIN_22578.jpg\n",
      "../data/train/TRAIN_22579.jpg\n",
      "../data/train/TRAIN_22580.jpg\n",
      "../data/train/TRAIN_22581.jpg\n",
      "../data/train/TRAIN_22582.jpg\n",
      "../data/train/TRAIN_22583.jpg\n",
      "../data/train/TRAIN_22584.jpg\n",
      "../data/train/TRAIN_22585.jpg\n",
      "../data/train/TRAIN_22586.jpg\n"
     ]
    },
    {
     "name": "stderr",
     "output_type": "stream",
     "text": [
      "99it [00:01, 56.04it/s]"
     ]
    },
    {
     "name": "stdout",
     "output_type": "stream",
     "text": [
      "../data/train/TRAIN_22587.jpg\n",
      "../data/train/TRAIN_22588.jpg\n",
      "../data/train/TRAIN_22589.jpg\n"
     ]
    },
    {
     "name": "stderr",
     "output_type": "stream",
     "text": [
      "105it [00:01, 56.55it/s]"
     ]
    },
    {
     "name": "stdout",
     "output_type": "stream",
     "text": [
      "../data/train/TRAIN_22590.jpg\n",
      "../data/train/TRAIN_22591.jpg\n",
      "../data/train/TRAIN_22592.jpg\n",
      "../data/train/TRAIN_22593.jpg\n",
      "../data/train/TRAIN_22594.jpg\n",
      "../data/train/TRAIN_22595.jpg\n",
      "../data/train/TRAIN_22596.jpg\n",
      "../data/train/TRAIN_22597.jpg\n",
      "../data/train/TRAIN_22598.jpg\n"
     ]
    },
    {
     "name": "stderr",
     "output_type": "stream",
     "text": [
      "111it [00:01, 56.21it/s]"
     ]
    },
    {
     "name": "stdout",
     "output_type": "stream",
     "text": [
      "../data/train/TRAIN_22599.jpg\n",
      "../data/train/TRAIN_22600.jpg\n",
      "../data/train/TRAIN_22601.jpg\n",
      "../data/train/TRAIN_22602.jpg\n"
     ]
    },
    {
     "name": "stderr",
     "output_type": "stream",
     "text": [
      "120it [00:02, 56.24it/s]\n"
     ]
    },
    {
     "name": "stdout",
     "output_type": "stream",
     "text": [
      "../data/train/TRAIN_22603.jpg\n",
      "../data/train/TRAIN_22604.jpg\n",
      "../data/train/TRAIN_22605.jpg\n",
      "../data/train/TRAIN_22606.jpg\n",
      "../data/train/TRAIN_22607.jpg\n"
     ]
    },
    {
     "name": "stderr",
     "output_type": "stream",
     "text": [
      "0it [00:00, ?it/s]"
     ]
    },
    {
     "name": "stdout",
     "output_type": "stream",
     "text": [
      "../data/train/TRAIN_00216.jpg\n",
      "../data/train/TRAIN_00217.jpg\n"
     ]
    },
    {
     "name": "stderr",
     "output_type": "stream",
     "text": [
      "3it [00:00, 29.47it/s]"
     ]
    },
    {
     "name": "stdout",
     "output_type": "stream",
     "text": [
      "../data/train/TRAIN_00218.jpg\n",
      "../data/train/TRAIN_00219.jpg\n",
      "../data/train/TRAIN_00220.jpg\n",
      "../data/train/TRAIN_00221.jpg\n",
      "../data/train/TRAIN_00222.jpg\n"
     ]
    },
    {
     "name": "stderr",
     "output_type": "stream",
     "text": [
      "7it [00:00, 30.63it/s]"
     ]
    },
    {
     "name": "stdout",
     "output_type": "stream",
     "text": [
      "../data/train/TRAIN_00223.jpg\n",
      "../data/train/TRAIN_00224.jpg\n",
      "../data/train/TRAIN_00225.jpg\n",
      "../data/train/TRAIN_00226.jpg\n"
     ]
    },
    {
     "name": "stderr",
     "output_type": "stream",
     "text": [
      "11it [00:00, 32.18it/s]"
     ]
    },
    {
     "name": "stdout",
     "output_type": "stream",
     "text": [
      "../data/train/TRAIN_00227.jpg\n",
      "../data/train/TRAIN_00228.jpg\n",
      "../data/train/TRAIN_00229.jpg\n"
     ]
    },
    {
     "name": "stderr",
     "output_type": "stream",
     "text": [
      "15it [00:00, 32.04it/s]"
     ]
    },
    {
     "name": "stdout",
     "output_type": "stream",
     "text": [
      "../data/train/TRAIN_00230.jpg\n",
      "../data/train/TRAIN_00231.jpg\n",
      "../data/train/TRAIN_00232.jpg\n",
      "../data/train/TRAIN_00233.jpg\n"
     ]
    },
    {
     "name": "stderr",
     "output_type": "stream",
     "text": [
      "23it [00:01, 18.22it/s]"
     ]
    },
    {
     "name": "stdout",
     "output_type": "stream",
     "text": [
      "../data/train/TRAIN_00234.jpg\n",
      "../data/train/TRAIN_00235.jpg\n",
      "../data/train/TRAIN_00236.jpg\n",
      "../data/train/TRAIN_00237.jpg\n",
      "../data/train/TRAIN_00238.jpg\n",
      "../data/train/TRAIN_00239.jpg\n",
      "../data/train/TRAIN_22680.jpg\n",
      "../data/train/TRAIN_22681.jpg\n"
     ]
    },
    {
     "name": "stderr",
     "output_type": "stream",
     "text": [
      "31it [00:01, 24.02it/s]"
     ]
    },
    {
     "name": "stdout",
     "output_type": "stream",
     "text": [
      "../data/train/TRAIN_22682.jpg\n",
      "../data/train/TRAIN_22683.jpg\n",
      "../data/train/TRAIN_22684.jpg\n",
      "../data/train/TRAIN_22685.jpg\n",
      "../data/train/TRAIN_22686.jpg\n",
      "../data/train/TRAIN_22687.jpg\n",
      "../data/train/TRAIN_22688.jpg\n"
     ]
    },
    {
     "name": "stderr",
     "output_type": "stream",
     "text": [
      "38it [00:01, 28.36it/s]"
     ]
    },
    {
     "name": "stdout",
     "output_type": "stream",
     "text": [
      "../data/train/TRAIN_22689.jpg\n",
      "../data/train/TRAIN_22690.jpg\n",
      "../data/train/TRAIN_22691.jpg\n",
      "../data/train/TRAIN_22692.jpg\n",
      "../data/train/TRAIN_22693.jpg\n",
      "../data/train/TRAIN_22694.jpg\n",
      "../data/train/TRAIN_22695.jpg\n",
      "../data/train/TRAIN_22696.jpg\n"
     ]
    },
    {
     "name": "stderr",
     "output_type": "stream",
     "text": [
      "46it [00:01, 31.19it/s]"
     ]
    },
    {
     "name": "stdout",
     "output_type": "stream",
     "text": [
      "../data/train/TRAIN_22697.jpg\n",
      "../data/train/TRAIN_22698.jpg\n",
      "../data/train/TRAIN_22699.jpg\n",
      "../data/train/TRAIN_22700.jpg\n",
      "../data/train/TRAIN_22701.jpg\n",
      "../data/train/TRAIN_22702.jpg\n",
      "../data/train/TRAIN_22703.jpg\n"
     ]
    },
    {
     "name": "stderr",
     "output_type": "stream",
     "text": [
      "48it [00:02, 21.37it/s]\n",
      "3it [00:00, 25.21it/s]"
     ]
    },
    {
     "name": "stdout",
     "output_type": "stream",
     "text": [
      "../data/train/TRAIN_00216.jpg\n",
      "../data/train/TRAIN_00217.jpg\n",
      "../data/train/TRAIN_00218.jpg\n",
      "../data/train/TRAIN_00219.jpg\n",
      "../data/train/TRAIN_00220.jpg\n",
      "../data/train/TRAIN_00221.jpg\n",
      "../data/train/TRAIN_00222.jpg\n"
     ]
    },
    {
     "name": "stderr",
     "output_type": "stream",
     "text": [
      "11it [00:00, 32.79it/s]"
     ]
    },
    {
     "name": "stdout",
     "output_type": "stream",
     "text": [
      "../data/train/TRAIN_00223.jpg\n",
      "../data/train/TRAIN_00224.jpg\n",
      "../data/train/TRAIN_00225.jpg\n",
      "../data/train/TRAIN_00226.jpg\n",
      "../data/train/TRAIN_00227.jpg\n",
      "../data/train/TRAIN_00228.jpg\n",
      "../data/train/TRAIN_00229.jpg\n"
     ]
    },
    {
     "name": "stderr",
     "output_type": "stream",
     "text": [
      "15it [00:00, 23.82it/s]"
     ]
    },
    {
     "name": "stdout",
     "output_type": "stream",
     "text": [
      "../data/train/TRAIN_00230.jpg\n",
      "../data/train/TRAIN_00231.jpg\n",
      "../data/train/TRAIN_00232.jpg\n",
      "../data/train/TRAIN_00233.jpg\n"
     ]
    },
    {
     "name": "stderr",
     "output_type": "stream",
     "text": [
      "20it [00:01, 11.07it/s]"
     ]
    },
    {
     "name": "stdout",
     "output_type": "stream",
     "text": [
      "../data/train/TRAIN_00234.jpg\n",
      "../data/train/TRAIN_00235.jpg\n",
      "../data/train/TRAIN_00236.jpg\n",
      "../data/train/TRAIN_00237.jpg\n"
     ]
    },
    {
     "name": "stderr",
     "output_type": "stream",
     "text": [
      "28it [00:01, 18.87it/s]"
     ]
    },
    {
     "name": "stdout",
     "output_type": "stream",
     "text": [
      "../data/train/TRAIN_00238.jpg\n",
      "../data/train/TRAIN_00239.jpg\n",
      "../data/train/TRAIN_22680.jpg\n",
      "../data/train/TRAIN_22681.jpg\n",
      "../data/train/TRAIN_22682.jpg\n",
      "../data/train/TRAIN_22683.jpg\n",
      "../data/train/TRAIN_22684.jpg\n",
      "../data/train/TRAIN_22685.jpg\n"
     ]
    },
    {
     "name": "stderr",
     "output_type": "stream",
     "text": [
      "36it [00:01, 25.75it/s]"
     ]
    },
    {
     "name": "stdout",
     "output_type": "stream",
     "text": [
      "../data/train/TRAIN_22686.jpg\n",
      "../data/train/TRAIN_22687.jpg\n",
      "../data/train/TRAIN_22688.jpg\n",
      "../data/train/TRAIN_22689.jpg\n",
      "../data/train/TRAIN_22690.jpg\n",
      "../data/train/TRAIN_22691.jpg\n",
      "../data/train/TRAIN_22692.jpg\n",
      "../data/train/TRAIN_22693.jpg\n"
     ]
    },
    {
     "name": "stderr",
     "output_type": "stream",
     "text": [
      "44it [00:02, 27.59it/s]"
     ]
    },
    {
     "name": "stdout",
     "output_type": "stream",
     "text": [
      "../data/train/TRAIN_22694.jpg\n",
      "../data/train/TRAIN_22695.jpg\n",
      "../data/train/TRAIN_22696.jpg\n",
      "../data/train/TRAIN_22697.jpg\n",
      "../data/train/TRAIN_22698.jpg\n",
      "../data/train/TRAIN_22699.jpg\n"
     ]
    },
    {
     "name": "stderr",
     "output_type": "stream",
     "text": [
      "48it [00:02, 21.69it/s]\n"
     ]
    },
    {
     "name": "stdout",
     "output_type": "stream",
     "text": [
      "../data/train/TRAIN_22700.jpg\n",
      "../data/train/TRAIN_22701.jpg\n",
      "../data/train/TRAIN_22702.jpg\n",
      "../data/train/TRAIN_22703.jpg\n"
     ]
    },
    {
     "name": "stderr",
     "output_type": "stream",
     "text": [
      "0it [00:00, ?it/s]"
     ]
    },
    {
     "name": "stdout",
     "output_type": "stream",
     "text": [
      "../data/train/TRAIN_00216.jpg\n",
      "../data/train/TRAIN_00217.jpg\n",
      "../data/train/TRAIN_00218.jpg\n"
     ]
    },
    {
     "name": "stderr",
     "output_type": "stream",
     "text": [
      "3it [00:00, 28.87it/s]"
     ]
    },
    {
     "name": "stdout",
     "output_type": "stream",
     "text": [
      "../data/train/TRAIN_00219.jpg\n"
     ]
    },
    {
     "name": "stderr",
     "output_type": "stream",
     "text": [
      "6it [00:00, 10.07it/s]"
     ]
    },
    {
     "name": "stdout",
     "output_type": "stream",
     "text": [
      "../data/train/TRAIN_00220.jpg\n",
      "../data/train/TRAIN_00221.jpg\n",
      "../data/train/TRAIN_00222.jpg\n",
      "../data/train/TRAIN_00223.jpg\n",
      "../data/train/TRAIN_00224.jpg\n"
     ]
    },
    {
     "name": "stderr",
     "output_type": "stream",
     "text": [
      "13it [00:00, 17.74it/s]"
     ]
    },
    {
     "name": "stdout",
     "output_type": "stream",
     "text": [
      "../data/train/TRAIN_00225.jpg\n",
      "../data/train/TRAIN_00226.jpg\n",
      "../data/train/TRAIN_00227.jpg\n",
      "../data/train/TRAIN_00228.jpg\n",
      "../data/train/TRAIN_00229.jpg\n",
      "../data/train/TRAIN_00230.jpg\n"
     ]
    },
    {
     "name": "stderr",
     "output_type": "stream",
     "text": [
      "21it [00:01, 25.73it/s]"
     ]
    },
    {
     "name": "stdout",
     "output_type": "stream",
     "text": [
      "../data/train/TRAIN_00231.jpg\n",
      "../data/train/TRAIN_00232.jpg\n",
      "../data/train/TRAIN_00233.jpg\n",
      "../data/train/TRAIN_00234.jpg\n",
      "../data/train/TRAIN_00235.jpg\n",
      "../data/train/TRAIN_00236.jpg\n",
      "../data/train/TRAIN_00237.jpg\n",
      "../data/train/TRAIN_00238.jpg\n"
     ]
    },
    {
     "name": "stderr",
     "output_type": "stream",
     "text": [
      "25it [00:01, 26.23it/s]"
     ]
    },
    {
     "name": "stdout",
     "output_type": "stream",
     "text": [
      "../data/train/TRAIN_00239.jpg\n",
      "../data/train/TRAIN_22680.jpg\n",
      "../data/train/TRAIN_22681.jpg\n",
      "../data/train/TRAIN_22682.jpg\n",
      "../data/train/TRAIN_22683.jpg\n"
     ]
    },
    {
     "name": "stderr",
     "output_type": "stream",
     "text": [
      "31it [00:01, 20.47it/s]"
     ]
    },
    {
     "name": "stdout",
     "output_type": "stream",
     "text": [
      "../data/train/TRAIN_22684.jpg\n",
      "../data/train/TRAIN_22685.jpg\n",
      "../data/train/TRAIN_22686.jpg\n",
      "../data/train/TRAIN_22687.jpg\n",
      "../data/train/TRAIN_22688.jpg\n"
     ]
    },
    {
     "name": "stderr",
     "output_type": "stream",
     "text": [
      "38it [00:01, 18.80it/s]"
     ]
    },
    {
     "name": "stdout",
     "output_type": "stream",
     "text": [
      "../data/train/TRAIN_22689.jpg\n",
      "../data/train/TRAIN_22690.jpg\n",
      "../data/train/TRAIN_22691.jpg\n",
      "../data/train/TRAIN_22692.jpg\n",
      "../data/train/TRAIN_22693.jpg\n",
      "../data/train/TRAIN_22694.jpg\n"
     ]
    },
    {
     "name": "stderr",
     "output_type": "stream",
     "text": [
      "44it [00:02, 22.14it/s]"
     ]
    },
    {
     "name": "stdout",
     "output_type": "stream",
     "text": [
      "../data/train/TRAIN_22695.jpg\n",
      "../data/train/TRAIN_22696.jpg\n",
      "../data/train/TRAIN_22697.jpg\n",
      "../data/train/TRAIN_22698.jpg\n",
      "../data/train/TRAIN_22699.jpg\n",
      "../data/train/TRAIN_22700.jpg\n",
      "../data/train/TRAIN_22701.jpg\n"
     ]
    },
    {
     "name": "stderr",
     "output_type": "stream",
     "text": [
      "48it [00:02, 20.82it/s]\n"
     ]
    },
    {
     "name": "stdout",
     "output_type": "stream",
     "text": [
      "../data/train/TRAIN_22702.jpg\n",
      "../data/train/TRAIN_22703.jpg\n"
     ]
    },
    {
     "name": "stderr",
     "output_type": "stream",
     "text": [
      "4it [00:00, 34.21it/s]"
     ]
    },
    {
     "name": "stdout",
     "output_type": "stream",
     "text": [
      "../data/train/TRAIN_00216.jpg\n",
      "../data/train/TRAIN_00217.jpg\n",
      "../data/train/TRAIN_00218.jpg\n",
      "../data/train/TRAIN_00219.jpg\n",
      "../data/train/TRAIN_00220.jpg\n",
      "../data/train/TRAIN_00221.jpg\n",
      "../data/train/TRAIN_00222.jpg\n",
      "../data/train/TRAIN_00223.jpg\n"
     ]
    },
    {
     "name": "stderr",
     "output_type": "stream",
     "text": [
      "8it [00:00, 34.36it/s]"
     ]
    },
    {
     "name": "stdout",
     "output_type": "stream",
     "text": [
      "../data/train/TRAIN_00224.jpg\n",
      "../data/train/TRAIN_00225.jpg\n",
      "../data/train/TRAIN_00226.jpg\n",
      "../data/train/TRAIN_00227.jpg\n"
     ]
    },
    {
     "name": "stderr",
     "output_type": "stream",
     "text": [
      "12it [00:00, 34.22it/s]"
     ]
    },
    {
     "name": "stdout",
     "output_type": "stream",
     "text": [
      "../data/train/TRAIN_00228.jpg\n",
      "../data/train/TRAIN_00229.jpg\n",
      "../data/train/TRAIN_00230.jpg\n"
     ]
    },
    {
     "name": "stderr",
     "output_type": "stream",
     "text": [
      "16it [00:00, 33.73it/s]"
     ]
    },
    {
     "name": "stdout",
     "output_type": "stream",
     "text": [
      "../data/train/TRAIN_00231.jpg\n",
      "../data/train/TRAIN_00232.jpg\n",
      "../data/train/TRAIN_00233.jpg\n"
     ]
    },
    {
     "name": "stderr",
     "output_type": "stream",
     "text": [
      "20it [00:00, 26.55it/s]"
     ]
    },
    {
     "name": "stdout",
     "output_type": "stream",
     "text": [
      "../data/train/TRAIN_00234.jpg\n",
      "../data/train/TRAIN_00235.jpg\n",
      "../data/train/TRAIN_00236.jpg\n",
      "../data/train/TRAIN_00237.jpg\n"
     ]
    },
    {
     "name": "stderr",
     "output_type": "stream",
     "text": [
      "23it [00:01, 13.53it/s]"
     ]
    },
    {
     "name": "stdout",
     "output_type": "stream",
     "text": [
      "../data/train/TRAIN_00238.jpg\n",
      "../data/train/TRAIN_00239.jpg\n",
      "../data/train/TRAIN_22680.jpg\n"
     ]
    },
    {
     "name": "stderr",
     "output_type": "stream",
     "text": [
      "26it [00:01,  9.20it/s]"
     ]
    },
    {
     "name": "stdout",
     "output_type": "stream",
     "text": [
      "../data/train/TRAIN_22681.jpg\n",
      "../data/train/TRAIN_22682.jpg\n"
     ]
    },
    {
     "name": "stderr",
     "output_type": "stream",
     "text": [
      "28it [00:01,  9.34it/s]"
     ]
    },
    {
     "name": "stdout",
     "output_type": "stream",
     "text": [
      "../data/train/TRAIN_22683.jpg\n",
      "../data/train/TRAIN_22684.jpg\n",
      "../data/train/TRAIN_22685.jpg\n"
     ]
    },
    {
     "name": "stderr",
     "output_type": "stream",
     "text": [
      "32it [00:02, 11.19it/s]"
     ]
    },
    {
     "name": "stdout",
     "output_type": "stream",
     "text": [
      "../data/train/TRAIN_22686.jpg\n",
      "../data/train/TRAIN_22687.jpg\n",
      "../data/train/TRAIN_22688.jpg\n",
      "../data/train/TRAIN_22689.jpg\n",
      "../data/train/TRAIN_22690.jpg\n"
     ]
    },
    {
     "name": "stderr",
     "output_type": "stream",
     "text": [
      "39it [00:02, 17.76it/s]"
     ]
    },
    {
     "name": "stdout",
     "output_type": "stream",
     "text": [
      "../data/train/TRAIN_22691.jpg\n",
      "../data/train/TRAIN_22692.jpg\n",
      "../data/train/TRAIN_22693.jpg\n",
      "../data/train/TRAIN_22694.jpg\n",
      "../data/train/TRAIN_22695.jpg\n",
      "../data/train/TRAIN_22696.jpg\n"
     ]
    },
    {
     "name": "stderr",
     "output_type": "stream",
     "text": [
      "48it [00:02, 17.72it/s]"
     ]
    },
    {
     "name": "stdout",
     "output_type": "stream",
     "text": [
      "../data/train/TRAIN_22697.jpg\n",
      "../data/train/TRAIN_22698.jpg\n",
      "../data/train/TRAIN_22699.jpg\n",
      "../data/train/TRAIN_22700.jpg\n",
      "../data/train/TRAIN_22701.jpg\n",
      "../data/train/TRAIN_22702.jpg\n",
      "../data/train/TRAIN_22703.jpg\n"
     ]
    },
    {
     "name": "stderr",
     "output_type": "stream",
     "text": [
      "\n",
      "4it [00:00, 32.40it/s]"
     ]
    },
    {
     "name": "stdout",
     "output_type": "stream",
     "text": [
      "../data/train/TRAIN_00216.jpg\n",
      "../data/train/TRAIN_00217.jpg\n",
      "../data/train/TRAIN_00218.jpg\n",
      "../data/train/TRAIN_00219.jpg\n",
      "../data/train/TRAIN_00220.jpg\n",
      "../data/train/TRAIN_00221.jpg\n",
      "../data/train/TRAIN_00222.jpg\n",
      "../data/train/TRAIN_00223.jpg\n"
     ]
    },
    {
     "name": "stderr",
     "output_type": "stream",
     "text": [
      "12it [00:00, 34.40it/s]"
     ]
    },
    {
     "name": "stdout",
     "output_type": "stream",
     "text": [
      "../data/train/TRAIN_00224.jpg\n",
      "../data/train/TRAIN_00225.jpg\n",
      "../data/train/TRAIN_00226.jpg\n",
      "../data/train/TRAIN_00227.jpg\n",
      "../data/train/TRAIN_00228.jpg\n",
      "../data/train/TRAIN_00229.jpg\n"
     ]
    },
    {
     "name": "stderr",
     "output_type": "stream",
     "text": [
      "16it [00:00, 32.42it/s]"
     ]
    },
    {
     "name": "stdout",
     "output_type": "stream",
     "text": [
      "../data/train/TRAIN_00230.jpg\n",
      "../data/train/TRAIN_00231.jpg\n",
      "../data/train/TRAIN_00232.jpg\n",
      "../data/train/TRAIN_00233.jpg\n",
      "../data/train/TRAIN_00234.jpg\n",
      "../data/train/TRAIN_00235.jpg\n"
     ]
    },
    {
     "name": "stderr",
     "output_type": "stream",
     "text": [
      "23it [00:01, 13.97it/s]"
     ]
    },
    {
     "name": "stdout",
     "output_type": "stream",
     "text": [
      "../data/train/TRAIN_00236.jpg\n",
      "../data/train/TRAIN_00237.jpg\n",
      "../data/train/TRAIN_00238.jpg\n",
      "../data/train/TRAIN_00239.jpg\n",
      "../data/train/TRAIN_22680.jpg\n"
     ]
    },
    {
     "name": "stderr",
     "output_type": "stream",
     "text": [
      "27it [00:01, 17.86it/s]"
     ]
    },
    {
     "name": "stdout",
     "output_type": "stream",
     "text": [
      "../data/train/TRAIN_22681.jpg\n",
      "../data/train/TRAIN_22682.jpg\n",
      "../data/train/TRAIN_22683.jpg\n",
      "../data/train/TRAIN_22684.jpg\n",
      "../data/train/TRAIN_22685.jpg\n"
     ]
    },
    {
     "name": "stderr",
     "output_type": "stream",
     "text": [
      "34it [00:01, 21.45it/s]"
     ]
    },
    {
     "name": "stdout",
     "output_type": "stream",
     "text": [
      "../data/train/TRAIN_22686.jpg\n",
      "../data/train/TRAIN_22687.jpg\n",
      "../data/train/TRAIN_22688.jpg\n",
      "../data/train/TRAIN_22689.jpg\n",
      "../data/train/TRAIN_22690.jpg\n",
      "../data/train/TRAIN_22691.jpg\n",
      "../data/train/TRAIN_22692.jpg\n"
     ]
    },
    {
     "name": "stderr",
     "output_type": "stream",
     "text": [
      "37it [00:01, 22.96it/s]"
     ]
    },
    {
     "name": "stdout",
     "output_type": "stream",
     "text": [
      "../data/train/TRAIN_22693.jpg\n",
      "../data/train/TRAIN_22694.jpg\n",
      "../data/train/TRAIN_22695.jpg\n"
     ]
    },
    {
     "name": "stderr",
     "output_type": "stream",
     "text": [
      "40it [00:02, 16.12it/s]"
     ]
    },
    {
     "name": "stdout",
     "output_type": "stream",
     "text": [
      "../data/train/TRAIN_22696.jpg\n"
     ]
    },
    {
     "name": "stderr",
     "output_type": "stream",
     "text": [
      "43it [00:02, 13.02it/s]"
     ]
    },
    {
     "name": "stdout",
     "output_type": "stream",
     "text": [
      "../data/train/TRAIN_22697.jpg\n",
      "../data/train/TRAIN_22698.jpg\n",
      "../data/train/TRAIN_22699.jpg\n",
      "../data/train/TRAIN_22700.jpg\n"
     ]
    },
    {
     "name": "stderr",
     "output_type": "stream",
     "text": [
      "48it [00:02, 17.68it/s]\n"
     ]
    },
    {
     "name": "stdout",
     "output_type": "stream",
     "text": [
      "../data/train/TRAIN_22701.jpg\n",
      "../data/train/TRAIN_22702.jpg\n",
      "../data/train/TRAIN_22703.jpg\n"
     ]
    },
    {
     "name": "stderr",
     "output_type": "stream",
     "text": [
      "0it [00:00, ?it/s]"
     ]
    },
    {
     "name": "stdout",
     "output_type": "stream",
     "text": [
      "../data/train/TRAIN_00240.jpg\n",
      "../data/train/TRAIN_00241.jpg\n",
      "../data/train/TRAIN_00242.jpg\n"
     ]
    },
    {
     "name": "stderr",
     "output_type": "stream",
     "text": [
      "4it [00:00, 36.80it/s]"
     ]
    },
    {
     "name": "stdout",
     "output_type": "stream",
     "text": [
      "../data/train/TRAIN_00243.jpg\n",
      "../data/train/TRAIN_00244.jpg\n",
      "../data/train/TRAIN_00245.jpg\n"
     ]
    },
    {
     "name": "stderr",
     "output_type": "stream",
     "text": [
      "8it [00:00, 29.03it/s]"
     ]
    },
    {
     "name": "stdout",
     "output_type": "stream",
     "text": [
      "../data/train/TRAIN_00246.jpg\n",
      "../data/train/TRAIN_00247.jpg\n"
     ]
    },
    {
     "name": "stderr",
     "output_type": "stream",
     "text": [
      "12it [00:00, 29.84it/s]"
     ]
    },
    {
     "name": "stdout",
     "output_type": "stream",
     "text": [
      "../data/train/TRAIN_00248.jpg\n",
      "../data/train/TRAIN_00249.jpg\n",
      "../data/train/TRAIN_00250.jpg\n",
      "../data/train/TRAIN_00251.jpg\n",
      "../data/train/TRAIN_00252.jpg\n",
      "../data/train/TRAIN_00253.jpg\n",
      "../data/train/TRAIN_00254.jpg\n"
     ]
    },
    {
     "name": "stderr",
     "output_type": "stream",
     "text": [
      "16it [00:00, 31.77it/s]"
     ]
    },
    {
     "name": "stdout",
     "output_type": "stream",
     "text": [
      "../data/train/TRAIN_00255.jpg\n",
      "../data/train/TRAIN_00256.jpg\n",
      "../data/train/TRAIN_00257.jpg\n"
     ]
    },
    {
     "name": "stderr",
     "output_type": "stream",
     "text": [
      "20it [00:01, 10.13it/s]"
     ]
    },
    {
     "name": "stdout",
     "output_type": "stream",
     "text": [
      "../data/train/TRAIN_00258.jpg\n",
      "../data/train/TRAIN_00259.jpg\n",
      "../data/train/TRAIN_00260.jpg\n",
      "../data/train/TRAIN_00261.jpg\n"
     ]
    },
    {
     "name": "stderr",
     "output_type": "stream",
     "text": [
      "24it [00:01, 13.13it/s]"
     ]
    },
    {
     "name": "stdout",
     "output_type": "stream",
     "text": [
      "../data/train/TRAIN_00262.jpg\n",
      "../data/train/TRAIN_00263.jpg\n",
      "../data/train/TRAIN_22704.jpg\n",
      "../data/train/TRAIN_22705.jpg\n",
      "../data/train/TRAIN_22706.jpg\n",
      "../data/train/TRAIN_22707.jpg\n"
     ]
    },
    {
     "name": "stderr",
     "output_type": "stream",
     "text": [
      "32it [00:01, 19.52it/s]"
     ]
    },
    {
     "name": "stdout",
     "output_type": "stream",
     "text": [
      "../data/train/TRAIN_22708.jpg\n",
      "../data/train/TRAIN_22709.jpg\n",
      "../data/train/TRAIN_22710.jpg\n",
      "../data/train/TRAIN_22711.jpg\n",
      "../data/train/TRAIN_22712.jpg\n",
      "../data/train/TRAIN_22713.jpg\n",
      "../data/train/TRAIN_22714.jpg\n"
     ]
    },
    {
     "name": "stderr",
     "output_type": "stream",
     "text": [
      "36it [00:01, 22.74it/s]"
     ]
    },
    {
     "name": "stdout",
     "output_type": "stream",
     "text": [
      "../data/train/TRAIN_22715.jpg\n",
      "../data/train/TRAIN_22716.jpg\n",
      "../data/train/TRAIN_22717.jpg\n",
      "../data/train/TRAIN_22718.jpg\n"
     ]
    },
    {
     "name": "stderr",
     "output_type": "stream",
     "text": [
      "43it [00:02, 16.58it/s]"
     ]
    },
    {
     "name": "stdout",
     "output_type": "stream",
     "text": [
      "../data/train/TRAIN_22719.jpg\n",
      "../data/train/TRAIN_22720.jpg\n",
      "../data/train/TRAIN_22721.jpg\n",
      "../data/train/TRAIN_22722.jpg\n"
     ]
    },
    {
     "name": "stderr",
     "output_type": "stream",
     "text": [
      "47it [00:02, 19.65it/s]"
     ]
    },
    {
     "name": "stdout",
     "output_type": "stream",
     "text": [
      "../data/train/TRAIN_22723.jpg\n",
      "../data/train/TRAIN_22724.jpg\n",
      "../data/train/TRAIN_22725.jpg\n",
      "../data/train/TRAIN_22726.jpg\n",
      "../data/train/TRAIN_22727.jpg\n",
      "../data/train/TRAIN_22728.jpg\n",
      "../data/train/TRAIN_22729.jpg\n"
     ]
    },
    {
     "name": "stderr",
     "output_type": "stream",
     "text": [
      "55it [00:02, 24.90it/s]"
     ]
    },
    {
     "name": "stdout",
     "output_type": "stream",
     "text": [
      "../data/train/TRAIN_22730.jpg\n",
      "../data/train/TRAIN_22731.jpg\n",
      "../data/train/TRAIN_22732.jpg\n",
      "../data/train/TRAIN_22733.jpg\n",
      "../data/train/TRAIN_22734.jpg\n",
      "../data/train/TRAIN_22735.jpg\n",
      "../data/train/TRAIN_22736.jpg\n"
     ]
    },
    {
     "name": "stderr",
     "output_type": "stream",
     "text": [
      "63it [00:03, 28.56it/s]"
     ]
    },
    {
     "name": "stdout",
     "output_type": "stream",
     "text": [
      "../data/train/TRAIN_22737.jpg\n",
      "../data/train/TRAIN_22738.jpg\n",
      "../data/train/TRAIN_22739.jpg\n",
      "../data/train/TRAIN_22740.jpg\n",
      "../data/train/TRAIN_22741.jpg\n",
      "../data/train/TRAIN_22742.jpg\n",
      "../data/train/TRAIN_22743.jpg\n"
     ]
    },
    {
     "name": "stderr",
     "output_type": "stream",
     "text": [
      "67it [00:03, 29.74it/s]"
     ]
    },
    {
     "name": "stdout",
     "output_type": "stream",
     "text": [
      "../data/train/TRAIN_22744.jpg\n",
      "../data/train/TRAIN_22745.jpg\n",
      "../data/train/TRAIN_22746.jpg\n",
      "../data/train/TRAIN_22747.jpg\n",
      "../data/train/TRAIN_22748.jpg\n",
      "../data/train/TRAIN_22749.jpg\n",
      "../data/train/TRAIN_22750.jpg\n"
     ]
    },
    {
     "name": "stderr",
     "output_type": "stream",
     "text": [
      "72it [00:03, 20.11it/s]\n"
     ]
    },
    {
     "name": "stdout",
     "output_type": "stream",
     "text": [
      "../data/train/TRAIN_22751.jpg\n"
     ]
    },
    {
     "name": "stderr",
     "output_type": "stream",
     "text": [
      "1it [00:00,  9.75it/s]"
     ]
    },
    {
     "name": "stdout",
     "output_type": "stream",
     "text": [
      "../data/train/TRAIN_00240.jpg\n",
      "../data/train/TRAIN_00241.jpg\n"
     ]
    },
    {
     "name": "stderr",
     "output_type": "stream",
     "text": [
      "2it [00:00,  8.42it/s]"
     ]
    },
    {
     "name": "stdout",
     "output_type": "stream",
     "text": [
      "../data/train/TRAIN_00242.jpg\n",
      "../data/train/TRAIN_00243.jpg\n",
      "../data/train/TRAIN_00244.jpg\n"
     ]
    },
    {
     "name": "stderr",
     "output_type": "stream",
     "text": [
      "6it [00:00, 19.22it/s]"
     ]
    },
    {
     "name": "stdout",
     "output_type": "stream",
     "text": [
      "../data/train/TRAIN_00245.jpg\n",
      "../data/train/TRAIN_00246.jpg\n",
      "../data/train/TRAIN_00247.jpg\n",
      "../data/train/TRAIN_00248.jpg\n"
     ]
    },
    {
     "name": "stderr",
     "output_type": "stream",
     "text": [
      "10it [00:00, 25.22it/s]"
     ]
    },
    {
     "name": "stdout",
     "output_type": "stream",
     "text": [
      "../data/train/TRAIN_00249.jpg\n",
      "../data/train/TRAIN_00250.jpg\n",
      "../data/train/TRAIN_00251.jpg\n"
     ]
    },
    {
     "name": "stderr",
     "output_type": "stream",
     "text": [
      "13it [00:00, 26.65it/s]"
     ]
    },
    {
     "name": "stdout",
     "output_type": "stream",
     "text": [
      "../data/train/TRAIN_00252.jpg\n",
      "../data/train/TRAIN_00253.jpg\n",
      "../data/train/TRAIN_00254.jpg\n",
      "../data/train/TRAIN_00255.jpg\n",
      "../data/train/TRAIN_00256.jpg\n"
     ]
    },
    {
     "name": "stderr",
     "output_type": "stream",
     "text": [
      "17it [00:00, 29.32it/s]"
     ]
    },
    {
     "name": "stdout",
     "output_type": "stream",
     "text": [
      "../data/train/TRAIN_00257.jpg\n",
      "../data/train/TRAIN_00258.jpg\n"
     ]
    },
    {
     "name": "stderr",
     "output_type": "stream",
     "text": [
      "21it [00:00, 29.45it/s]"
     ]
    },
    {
     "name": "stdout",
     "output_type": "stream",
     "text": [
      "../data/train/TRAIN_00259.jpg\n",
      "../data/train/TRAIN_00260.jpg\n",
      "../data/train/TRAIN_00261.jpg\n",
      "../data/train/TRAIN_00262.jpg\n",
      "../data/train/TRAIN_00263.jpg\n"
     ]
    },
    {
     "name": "stderr",
     "output_type": "stream",
     "text": [
      "24it [00:00, 29.47it/s]"
     ]
    },
    {
     "name": "stdout",
     "output_type": "stream",
     "text": [
      "../data/train/TRAIN_22704.jpg\n"
     ]
    },
    {
     "name": "stderr",
     "output_type": "stream",
     "text": [
      "28it [00:01, 30.36it/s]"
     ]
    },
    {
     "name": "stdout",
     "output_type": "stream",
     "text": [
      "../data/train/TRAIN_22705.jpg\n",
      "../data/train/TRAIN_22706.jpg\n",
      "../data/train/TRAIN_22707.jpg\n",
      "../data/train/TRAIN_22708.jpg\n",
      "../data/train/TRAIN_22709.jpg\n",
      "../data/train/TRAIN_22710.jpg\n"
     ]
    },
    {
     "name": "stderr",
     "output_type": "stream",
     "text": [
      "37it [00:01, 18.57it/s]"
     ]
    },
    {
     "name": "stdout",
     "output_type": "stream",
     "text": [
      "../data/train/TRAIN_22711.jpg\n",
      "../data/train/TRAIN_22712.jpg\n",
      "../data/train/TRAIN_22713.jpg\n",
      "../data/train/TRAIN_22714.jpg\n",
      "../data/train/TRAIN_22715.jpg\n",
      "../data/train/TRAIN_22716.jpg\n",
      "../data/train/TRAIN_22717.jpg\n",
      "../data/train/TRAIN_22718.jpg\n"
     ]
    },
    {
     "name": "stderr",
     "output_type": "stream",
     "text": [
      "44it [00:02, 21.17it/s]"
     ]
    },
    {
     "name": "stdout",
     "output_type": "stream",
     "text": [
      "../data/train/TRAIN_22719.jpg\n",
      "../data/train/TRAIN_22720.jpg\n",
      "../data/train/TRAIN_22721.jpg\n",
      "../data/train/TRAIN_22722.jpg\n",
      "../data/train/TRAIN_22723.jpg\n",
      "../data/train/TRAIN_22724.jpg\n",
      "../data/train/TRAIN_22725.jpg\n",
      "../data/train/TRAIN_22726.jpg\n"
     ]
    },
    {
     "name": "stderr",
     "output_type": "stream",
     "text": [
      "53it [00:02, 27.73it/s]"
     ]
    },
    {
     "name": "stdout",
     "output_type": "stream",
     "text": [
      "../data/train/TRAIN_22727.jpg\n",
      "../data/train/TRAIN_22728.jpg\n",
      "../data/train/TRAIN_22729.jpg\n",
      "../data/train/TRAIN_22730.jpg\n",
      "../data/train/TRAIN_22731.jpg\n",
      "../data/train/TRAIN_22732.jpg\n",
      "../data/train/TRAIN_22733.jpg\n",
      "../data/train/TRAIN_22734.jpg\n",
      "../data/train/TRAIN_22735.jpg\n"
     ]
    },
    {
     "name": "stderr",
     "output_type": "stream",
     "text": [
      "57it [00:02, 17.37it/s]"
     ]
    },
    {
     "name": "stdout",
     "output_type": "stream",
     "text": [
      "../data/train/TRAIN_22736.jpg\n",
      "../data/train/TRAIN_22737.jpg\n",
      "../data/train/TRAIN_22738.jpg\n",
      "../data/train/TRAIN_22739.jpg\n"
     ]
    },
    {
     "name": "stderr",
     "output_type": "stream",
     "text": [
      "60it [00:02, 18.70it/s]"
     ]
    },
    {
     "name": "stdout",
     "output_type": "stream",
     "text": [
      "../data/train/TRAIN_22740.jpg\n"
     ]
    },
    {
     "name": "stderr",
     "output_type": "stream",
     "text": [
      "67it [00:03, 15.50it/s]"
     ]
    },
    {
     "name": "stdout",
     "output_type": "stream",
     "text": [
      "../data/train/TRAIN_22741.jpg\n",
      "../data/train/TRAIN_22742.jpg\n",
      "../data/train/TRAIN_22743.jpg\n",
      "../data/train/TRAIN_22744.jpg\n",
      "../data/train/TRAIN_22745.jpg\n",
      "../data/train/TRAIN_22746.jpg\n",
      "../data/train/TRAIN_22747.jpg\n",
      "../data/train/TRAIN_22748.jpg\n"
     ]
    },
    {
     "name": "stderr",
     "output_type": "stream",
     "text": [
      "72it [00:03, 19.55it/s]\n"
     ]
    },
    {
     "name": "stdout",
     "output_type": "stream",
     "text": [
      "../data/train/TRAIN_22749.jpg\n",
      "../data/train/TRAIN_22750.jpg\n",
      "../data/train/TRAIN_22751.jpg\n"
     ]
    },
    {
     "name": "stderr",
     "output_type": "stream",
     "text": [
      "0it [00:00, ?it/s]"
     ]
    },
    {
     "name": "stdout",
     "output_type": "stream",
     "text": [
      "../data/train/TRAIN_00240.jpg\n",
      "../data/train/TRAIN_00241.jpg\n",
      "../data/train/TRAIN_00242.jpg\n",
      "../data/train/TRAIN_00243.jpg\n"
     ]
    },
    {
     "name": "stderr",
     "output_type": "stream",
     "text": [
      "4it [00:00, 38.19it/s]"
     ]
    },
    {
     "name": "stdout",
     "output_type": "stream",
     "text": [
      "../data/train/TRAIN_00244.jpg\n"
     ]
    },
    {
     "name": "stderr",
     "output_type": "stream",
     "text": [
      "8it [00:00, 14.38it/s]"
     ]
    },
    {
     "name": "stdout",
     "output_type": "stream",
     "text": [
      "../data/train/TRAIN_00245.jpg\n",
      "../data/train/TRAIN_00246.jpg\n",
      "../data/train/TRAIN_00247.jpg\n",
      "../data/train/TRAIN_00248.jpg\n",
      "../data/train/TRAIN_00249.jpg\n",
      "../data/train/TRAIN_00250.jpg\n"
     ]
    },
    {
     "name": "stderr",
     "output_type": "stream",
     "text": [
      "16it [00:00, 24.01it/s]"
     ]
    },
    {
     "name": "stdout",
     "output_type": "stream",
     "text": [
      "../data/train/TRAIN_00251.jpg\n",
      "../data/train/TRAIN_00252.jpg\n",
      "../data/train/TRAIN_00253.jpg\n",
      "../data/train/TRAIN_00254.jpg\n",
      "../data/train/TRAIN_00255.jpg\n",
      "../data/train/TRAIN_00256.jpg\n",
      "../data/train/TRAIN_00257.jpg\n",
      "../data/train/TRAIN_00258.jpg\n",
      "../data/train/TRAIN_00259.jpg\n"
     ]
    },
    {
     "name": "stderr",
     "output_type": "stream",
     "text": [
      "24it [00:00, 30.44it/s]"
     ]
    },
    {
     "name": "stdout",
     "output_type": "stream",
     "text": [
      "../data/train/TRAIN_00260.jpg\n",
      "../data/train/TRAIN_00261.jpg\n",
      "../data/train/TRAIN_00262.jpg\n",
      "../data/train/TRAIN_00263.jpg\n",
      "../data/train/TRAIN_22704.jpg\n",
      "../data/train/TRAIN_22705.jpg\n",
      "../data/train/TRAIN_22706.jpg\n",
      "../data/train/TRAIN_22707.jpg\n"
     ]
    },
    {
     "name": "stderr",
     "output_type": "stream",
     "text": [
      "32it [00:01, 32.05it/s]"
     ]
    },
    {
     "name": "stdout",
     "output_type": "stream",
     "text": [
      "../data/train/TRAIN_22708.jpg\n",
      "../data/train/TRAIN_22709.jpg\n",
      "../data/train/TRAIN_22710.jpg\n",
      "../data/train/TRAIN_22711.jpg\n",
      "../data/train/TRAIN_22712.jpg\n",
      "../data/train/TRAIN_22713.jpg\n",
      "../data/train/TRAIN_22714.jpg\n"
     ]
    },
    {
     "name": "stderr",
     "output_type": "stream",
     "text": [
      "41it [00:01, 32.37it/s]"
     ]
    },
    {
     "name": "stdout",
     "output_type": "stream",
     "text": [
      "../data/train/TRAIN_22715.jpg\n",
      "../data/train/TRAIN_22716.jpg\n",
      "../data/train/TRAIN_22717.jpg\n",
      "../data/train/TRAIN_22718.jpg\n",
      "../data/train/TRAIN_22719.jpg\n",
      "../data/train/TRAIN_22720.jpg\n",
      "../data/train/TRAIN_22721.jpg\n",
      "../data/train/TRAIN_22722.jpg\n",
      "../data/train/TRAIN_22723.jpg\n",
      "../data/train/TRAIN_22724.jpg\n"
     ]
    },
    {
     "name": "stderr",
     "output_type": "stream",
     "text": [
      "48it [00:02, 16.40it/s]"
     ]
    },
    {
     "name": "stdout",
     "output_type": "stream",
     "text": [
      "../data/train/TRAIN_22725.jpg\n",
      "../data/train/TRAIN_22726.jpg\n",
      "../data/train/TRAIN_22727.jpg\n",
      "../data/train/TRAIN_22728.jpg\n",
      "../data/train/TRAIN_22729.jpg\n"
     ]
    },
    {
     "name": "stderr",
     "output_type": "stream",
     "text": [
      "56it [00:02, 22.81it/s]"
     ]
    },
    {
     "name": "stdout",
     "output_type": "stream",
     "text": [
      "../data/train/TRAIN_22730.jpg\n",
      "../data/train/TRAIN_22731.jpg\n",
      "../data/train/TRAIN_22732.jpg\n",
      "../data/train/TRAIN_22733.jpg\n",
      "../data/train/TRAIN_22734.jpg\n",
      "../data/train/TRAIN_22735.jpg\n",
      "../data/train/TRAIN_22736.jpg\n",
      "../data/train/TRAIN_22737.jpg\n"
     ]
    },
    {
     "name": "stderr",
     "output_type": "stream",
     "text": [
      "60it [00:02, 25.16it/s]"
     ]
    },
    {
     "name": "stdout",
     "output_type": "stream",
     "text": [
      "../data/train/TRAIN_22738.jpg\n",
      "../data/train/TRAIN_22739.jpg\n",
      "../data/train/TRAIN_22740.jpg\n",
      "../data/train/TRAIN_22741.jpg\n",
      "../data/train/TRAIN_22742.jpg\n",
      "../data/train/TRAIN_22743.jpg\n"
     ]
    },
    {
     "name": "stderr",
     "output_type": "stream",
     "text": [
      "67it [00:02, 26.18it/s]"
     ]
    },
    {
     "name": "stdout",
     "output_type": "stream",
     "text": [
      "../data/train/TRAIN_22744.jpg\n",
      "../data/train/TRAIN_22745.jpg\n",
      "../data/train/TRAIN_22746.jpg\n",
      "../data/train/TRAIN_22747.jpg\n",
      "../data/train/TRAIN_22748.jpg\n"
     ]
    },
    {
     "name": "stderr",
     "output_type": "stream",
     "text": [
      "72it [00:03, 21.83it/s]"
     ]
    },
    {
     "name": "stdout",
     "output_type": "stream",
     "text": [
      "../data/train/TRAIN_22749.jpg\n",
      "../data/train/TRAIN_22750.jpg\n",
      "../data/train/TRAIN_22751.jpg\n"
     ]
    },
    {
     "name": "stderr",
     "output_type": "stream",
     "text": [
      "\n"
     ]
    }
   ],
   "source": [
    "cnt = 0\n",
    "number = 42809\n",
    "for label,folder in [(G_id,\"G_label\"),(G_id,\"G_label\"),\\\n",
    "     (I_id,\"I_label\"),(I_id,\"I_label\"),(I_id,\"I_label\"),(I_id,\"I_label\"),(I_id,\"I_label\"),\\\n",
    "     (J_id,\"J_label\"),(J_id,\"J_label\"),(J_id,\"J_label\")]:\n",
    "    img_list = [f\"../data/train/{i}.jpg\" for i in label]\n",
    "    for img_l, background in tqdm(zip(img_list, bg_list[cnt:cnt+len(img_list)])):\n",
    "        # './train\\\\TRAIN_00999.jpg'\n",
    "        name = img_l[-15:]\n",
    "        num = int(name[-9:-4])\n",
    "        img = cv2.imread(img_l)\n",
    "        if 31600 <= num <= 31711:\n",
    "            cv2.imwrite(f\"../data/H_label/{name}\", img)\n",
    "            continue\n",
    "\n",
    "        thresh = 230\n",
    "    \n",
    "        \n",
    "        img_bin = np.array(img[:, :, 0] < thresh, dtype=np.uint8) * 255\n",
    "        img_blur = cv2.medianBlur(img_bin, 5)\n",
    "        img_filter = img.copy()\n",
    "        img_filter[img_blur == 0] = 0\n",
    "\n",
    "        retval, labels, stats, centroids = cv2.connectedComponentsWithStats(img_blur)\n",
    "        stats = np.array(stats)\n",
    "        stats[0, -1] = 0\n",
    "        label_idx = np.argmax(stats[:, -1])\n",
    "        img_mask = labels == label_idx\n",
    "        img_final = img_filter.copy()\n",
    "        img_final[~img_mask] = (0, 0, 0)\n",
    "\n",
    "        img_back = cv2.resize(cv2.imread(background), img.shape[::-1][1:])\n",
    "        img_back[img_mask] = (0, 0, 0)\n",
    "        img_filter += img_back\n",
    "\n",
    "        \n",
    "        with open('./new_used_name.txt', 'a') as f:\n",
    "            f.write(f'{background}\\n')\n",
    "        cv2.imwrite(f\"../data/new_merge_train/TRAIN_{number}.jpg\", img_filter)\n",
    "        if folder == \"G_label\":\n",
    "            new_train_csv.loc[number] = [f\"TRAIN_{number}\",f\"./train/TRAIN_{number}.jpg\",0,0,0,0,0,0,1,0,0,0]\n",
    "        elif folder == \"I_label\":\n",
    "            new_train_csv.loc[number] = [f\"TRAIN_{number}\",f\"./train/TRAIN_{number}.jpg\",0,0,0,0,0,0,0,0,1,0]\n",
    "        elif folder == \"J_label\":\n",
    "            new_train_csv.loc[number] = [f\"TRAIN_{number}\",f\"./train/TRAIN_{number}.jpg\",0,0,0,0,0,0,0,0,0,1]\n",
    "        else:\n",
    "            print(\"!!!!!!! error!!\")\n",
    "        number += 1\n",
    "    cnt += len(img_list)"
   ]
  },
  {
   "cell_type": "code",
   "execution_count": null,
   "metadata": {},
   "outputs": [],
   "source": [
    "new_train_csv.to_csv(\"../igh_train_csv.csv\")"
   ]
  },
  {
   "cell_type": "code",
   "execution_count": null,
   "metadata": {},
   "outputs": [],
   "source": []
  }
 ],
 "metadata": {
  "kernelspec": {
   "display_name": "myvenv",
   "language": "python",
   "name": "python3"
  },
  "language_info": {
   "codemirror_mode": {
    "name": "ipython",
    "version": 3
   },
   "file_extension": ".py",
   "mimetype": "text/x-python",
   "name": "python",
   "nbconvert_exporter": "python",
   "pygments_lexer": "ipython3",
   "version": "3.10.7 (tags/v3.10.7:6cc6b13, Sep  5 2022, 14:08:36) [MSC v.1933 64 bit (AMD64)]"
  },
  "orig_nbformat": 4,
  "vscode": {
   "interpreter": {
    "hash": "d237e345f562da9ac6d0af92d4b6cd447951cedf1c9eefb6e9bf9729b17d0c58"
   }
  }
 },
 "nbformat": 4,
 "nbformat_minor": 2
}
