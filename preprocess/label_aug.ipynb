{
 "cells": [
  {
   "cell_type": "code",
   "execution_count": 1,
   "metadata": {},
   "outputs": [],
   "source": [
    "import pandas as pd"
   ]
  },
  {
   "cell_type": "code",
   "execution_count": 15,
   "metadata": {},
   "outputs": [],
   "source": [
    "train_df = pd.read_csv(\"../data/train.csv\")"
   ]
  },
  {
   "cell_type": "code",
   "execution_count": 25,
   "metadata": {},
   "outputs": [
    {
     "data": {
      "text/html": [
       "<div>\n",
       "<style scoped>\n",
       "    .dataframe tbody tr th:only-of-type {\n",
       "        vertical-align: middle;\n",
       "    }\n",
       "\n",
       "    .dataframe tbody tr th {\n",
       "        vertical-align: top;\n",
       "    }\n",
       "\n",
       "    .dataframe thead th {\n",
       "        text-align: right;\n",
       "    }\n",
       "</style>\n",
       "<table border=\"1\" class=\"dataframe\">\n",
       "  <thead>\n",
       "    <tr style=\"text-align: right;\">\n",
       "      <th></th>\n",
       "      <th>id</th>\n",
       "      <th>img_path</th>\n",
       "      <th>A</th>\n",
       "      <th>B</th>\n",
       "      <th>C</th>\n",
       "      <th>D</th>\n",
       "      <th>E</th>\n",
       "      <th>F</th>\n",
       "      <th>G</th>\n",
       "      <th>H</th>\n",
       "      <th>I</th>\n",
       "      <th>J</th>\n",
       "    </tr>\n",
       "  </thead>\n",
       "  <tbody>\n",
       "    <tr>\n",
       "      <th>2</th>\n",
       "      <td>TRAIN_00002</td>\n",
       "      <td>./train/TRAIN_00002.jpg</td>\n",
       "      <td>1</td>\n",
       "      <td>0</td>\n",
       "      <td>0</td>\n",
       "      <td>0</td>\n",
       "      <td>0</td>\n",
       "      <td>0</td>\n",
       "      <td>0</td>\n",
       "      <td>0</td>\n",
       "      <td>0</td>\n",
       "      <td>0</td>\n",
       "    </tr>\n",
       "    <tr>\n",
       "      <th>3</th>\n",
       "      <td>TRAIN_00003</td>\n",
       "      <td>./train/TRAIN_00003.jpg</td>\n",
       "      <td>1</td>\n",
       "      <td>0</td>\n",
       "      <td>0</td>\n",
       "      <td>0</td>\n",
       "      <td>0</td>\n",
       "      <td>0</td>\n",
       "      <td>0</td>\n",
       "      <td>0</td>\n",
       "      <td>0</td>\n",
       "      <td>0</td>\n",
       "    </tr>\n",
       "    <tr>\n",
       "      <th>4</th>\n",
       "      <td>TRAIN_00004</td>\n",
       "      <td>./train/TRAIN_00004.jpg</td>\n",
       "      <td>1</td>\n",
       "      <td>0</td>\n",
       "      <td>0</td>\n",
       "      <td>0</td>\n",
       "      <td>0</td>\n",
       "      <td>0</td>\n",
       "      <td>0</td>\n",
       "      <td>0</td>\n",
       "      <td>0</td>\n",
       "      <td>0</td>\n",
       "    </tr>\n",
       "    <tr>\n",
       "      <th>5</th>\n",
       "      <td>TRAIN_00005</td>\n",
       "      <td>./train/TRAIN_00005.jpg</td>\n",
       "      <td>1</td>\n",
       "      <td>0</td>\n",
       "      <td>0</td>\n",
       "      <td>0</td>\n",
       "      <td>0</td>\n",
       "      <td>0</td>\n",
       "      <td>0</td>\n",
       "      <td>0</td>\n",
       "      <td>0</td>\n",
       "      <td>0</td>\n",
       "    </tr>\n",
       "    <tr>\n",
       "      <th>6</th>\n",
       "      <td>TRAIN_00006</td>\n",
       "      <td>./train/TRAIN_00006.jpg</td>\n",
       "      <td>1</td>\n",
       "      <td>0</td>\n",
       "      <td>0</td>\n",
       "      <td>0</td>\n",
       "      <td>0</td>\n",
       "      <td>0</td>\n",
       "      <td>0</td>\n",
       "      <td>0</td>\n",
       "      <td>0</td>\n",
       "      <td>0</td>\n",
       "    </tr>\n",
       "    <tr>\n",
       "      <th>...</th>\n",
       "      <td>...</td>\n",
       "      <td>...</td>\n",
       "      <td>...</td>\n",
       "      <td>...</td>\n",
       "      <td>...</td>\n",
       "      <td>...</td>\n",
       "      <td>...</td>\n",
       "      <td>...</td>\n",
       "      <td>...</td>\n",
       "      <td>...</td>\n",
       "      <td>...</td>\n",
       "      <td>...</td>\n",
       "    </tr>\n",
       "    <tr>\n",
       "      <th>42806</th>\n",
       "      <td>TRAIN_42806</td>\n",
       "      <td>./train/TRAIN_42806.jpg</td>\n",
       "      <td>1</td>\n",
       "      <td>1</td>\n",
       "      <td>1</td>\n",
       "      <td>1</td>\n",
       "      <td>1</td>\n",
       "      <td>1</td>\n",
       "      <td>1</td>\n",
       "      <td>1</td>\n",
       "      <td>1</td>\n",
       "      <td>1</td>\n",
       "    </tr>\n",
       "    <tr>\n",
       "      <th>42807</th>\n",
       "      <td>TRAIN_42807</td>\n",
       "      <td>./train/TRAIN_42807.jpg</td>\n",
       "      <td>1</td>\n",
       "      <td>1</td>\n",
       "      <td>1</td>\n",
       "      <td>1</td>\n",
       "      <td>1</td>\n",
       "      <td>1</td>\n",
       "      <td>1</td>\n",
       "      <td>1</td>\n",
       "      <td>1</td>\n",
       "      <td>1</td>\n",
       "    </tr>\n",
       "    <tr>\n",
       "      <th>42808</th>\n",
       "      <td>TRAIN_42808</td>\n",
       "      <td>./train/TRAIN_42808.jpg</td>\n",
       "      <td>1</td>\n",
       "      <td>1</td>\n",
       "      <td>1</td>\n",
       "      <td>1</td>\n",
       "      <td>1</td>\n",
       "      <td>1</td>\n",
       "      <td>1</td>\n",
       "      <td>1</td>\n",
       "      <td>1</td>\n",
       "      <td>1</td>\n",
       "    </tr>\n",
       "    <tr>\n",
       "      <th>42809</th>\n",
       "      <td>TRAIN_42809</td>\n",
       "      <td>./train/TRAIN_42809.jpg</td>\n",
       "      <td>1</td>\n",
       "      <td>1</td>\n",
       "      <td>1</td>\n",
       "      <td>1</td>\n",
       "      <td>1</td>\n",
       "      <td>1</td>\n",
       "      <td>1</td>\n",
       "      <td>1</td>\n",
       "      <td>1</td>\n",
       "      <td>1</td>\n",
       "    </tr>\n",
       "    <tr>\n",
       "      <th>42810</th>\n",
       "      <td>TRAIN_42810</td>\n",
       "      <td>./train/TRAIN_42810.jpg</td>\n",
       "      <td>1</td>\n",
       "      <td>1</td>\n",
       "      <td>1</td>\n",
       "      <td>1</td>\n",
       "      <td>1</td>\n",
       "      <td>1</td>\n",
       "      <td>1</td>\n",
       "      <td>1</td>\n",
       "      <td>1</td>\n",
       "      <td>1</td>\n",
       "    </tr>\n",
       "  </tbody>\n",
       "</table>\n",
       "<p>42809 rows × 12 columns</p>\n",
       "</div>"
      ],
      "text/plain": [
       "                id                 img_path  A  B  C  D  E  F  G  H  I  J\n",
       "2      TRAIN_00002  ./train/TRAIN_00002.jpg  1  0  0  0  0  0  0  0  0  0\n",
       "3      TRAIN_00003  ./train/TRAIN_00003.jpg  1  0  0  0  0  0  0  0  0  0\n",
       "4      TRAIN_00004  ./train/TRAIN_00004.jpg  1  0  0  0  0  0  0  0  0  0\n",
       "5      TRAIN_00005  ./train/TRAIN_00005.jpg  1  0  0  0  0  0  0  0  0  0\n",
       "6      TRAIN_00006  ./train/TRAIN_00006.jpg  1  0  0  0  0  0  0  0  0  0\n",
       "...            ...                      ... .. .. .. .. .. .. .. .. .. ..\n",
       "42806  TRAIN_42806  ./train/TRAIN_42806.jpg  1  1  1  1  1  1  1  1  1  1\n",
       "42807  TRAIN_42807  ./train/TRAIN_42807.jpg  1  1  1  1  1  1  1  1  1  1\n",
       "42808  TRAIN_42808  ./train/TRAIN_42808.jpg  1  1  1  1  1  1  1  1  1  1\n",
       "42809  TRAIN_42809  ./train/TRAIN_42809.jpg  1  1  1  1  1  1  1  1  1  1\n",
       "42810  TRAIN_42810  ./train/TRAIN_42810.jpg  1  1  1  1  1  1  1  1  1  1\n",
       "\n",
       "[42809 rows x 12 columns]"
      ]
     },
     "execution_count": 25,
     "metadata": {},
     "output_type": "execute_result"
    }
   ],
   "source": [
    "train_df"
   ]
  },
  {
   "cell_type": "code",
   "execution_count": 35,
   "metadata": {},
   "outputs": [],
   "source": [
    "H_id = train_df[\"id\"][(train_df['H'] == 1) & (train_df['A'] == 0) & (train_df['B'] == 0) & (train_df['C'] == 0) & (train_df['D'] == 0) & (train_df['E'] == 0) & (train_df['F'] == 0)\\\n",
    "        & (train_df['G'] == 0) & (train_df['J'] == 0) & (train_df['I'] == 0)]\n",
    "\n",
    "I_id = train_df[\"id\"][(train_df['I'] == 1) & (train_df['A'] == 0) & (train_df['B'] == 0) & (train_df['C'] == 0) & (train_df['D'] == 0) & (train_df['E'] == 0) & (train_df['F'] == 0)\\\n",
    "        & (train_df['G'] == 0) & (train_df['H'] == 0) & (train_df['J'] == 0)]\n",
    "\n",
    "J_id = train_df[\"id\"][(train_df['J'] == 1) & (train_df['A'] == 0) & (train_df['B'] == 0) & (train_df['C'] == 0) & (train_df['D'] == 0) & (train_df['E'] == 0) & (train_df['F'] == 0)\\\n",
    "        & (train_df['G'] == 0) & (train_df['H'] == 0) & (train_df['I'] == 0)]\n"
   ]
  },
  {
   "cell_type": "code",
   "execution_count": 47,
   "metadata": {},
   "outputs": [],
   "source": [
    "import os\n",
    "import pandas as pd\n",
    "import os\n",
    "import cv2\n",
    "from glob import glob\n",
    "from random import randint, sample\n",
    "from tqdm import tqdm\n",
    "import imutils\n",
    "import numpy as np"
   ]
  },
  {
   "cell_type": "code",
   "execution_count": 54,
   "metadata": {},
   "outputs": [],
   "source": [
    "os.makedirs('../data/H_label', exist_ok=True)\n",
    "os.makedirs('../data/I_label', exist_ok=True)\n",
    "os.makedirs('../data/J_label', exist_ok=True)"
   ]
  },
  {
   "cell_type": "code",
   "execution_count": 43,
   "metadata": {},
   "outputs": [],
   "source": [
    "bg_list = glob(\"../data/crawed_img/table/*.jpg\")"
   ]
  },
  {
   "cell_type": "code",
   "execution_count": 44,
   "metadata": {},
   "outputs": [
    {
     "name": "stdout",
     "output_type": "stream",
     "text": [
      "15414\n"
     ]
    }
   ],
   "source": [
    "print(len(bg_list))"
   ]
  },
  {
   "cell_type": "code",
   "execution_count": 53,
   "metadata": {},
   "outputs": [
    {
     "name": "stderr",
     "output_type": "stream",
     "text": [
      "0it [00:00, ?it/s]"
     ]
    },
    {
     "name": "stdout",
     "output_type": "stream",
     "text": [
      "../data/train/TRAIN_00168.jpg\n"
     ]
    },
    {
     "name": "stderr",
     "output_type": "stream",
     "text": [
      "8it [00:00, 18.10it/s]"
     ]
    },
    {
     "name": "stdout",
     "output_type": "stream",
     "text": [
      "../data/train/TRAIN_00169.jpg\n",
      "../data/train/TRAIN_00170.jpg\n",
      "../data/train/TRAIN_00171.jpg\n",
      "../data/train/TRAIN_00172.jpg\n",
      "../data/train/TRAIN_00173.jpg\n",
      "../data/train/TRAIN_00174.jpg\n",
      "../data/train/TRAIN_00175.jpg\n",
      "../data/train/TRAIN_00176.jpg\n",
      "../data/train/TRAIN_00177.jpg\n",
      "../data/train/TRAIN_00178.jpg\n",
      "../data/train/TRAIN_00179.jpg\n",
      "../data/train/TRAIN_00180.jpg\n",
      "../data/train/TRAIN_00181.jpg\n"
     ]
    },
    {
     "name": "stderr",
     "output_type": "stream",
     "text": [
      "23it [00:00, 42.37it/s]"
     ]
    },
    {
     "name": "stdout",
     "output_type": "stream",
     "text": [
      "../data/train/TRAIN_00182.jpg\n",
      "../data/train/TRAIN_00183.jpg\n",
      "../data/train/TRAIN_00184.jpg\n",
      "../data/train/TRAIN_00185.jpg\n",
      "../data/train/TRAIN_00186.jpg\n",
      "../data/train/TRAIN_00187.jpg\n",
      "../data/train/TRAIN_00188.jpg\n",
      "../data/train/TRAIN_00189.jpg\n",
      "../data/train/TRAIN_00190.jpg\n",
      "../data/train/TRAIN_00191.jpg\n",
      "../data/train/TRAIN_00192.jpg\n",
      "../data/train/TRAIN_00193.jpg\n",
      "../data/train/TRAIN_00194.jpg\n",
      "../data/train/TRAIN_00195.jpg\n",
      "../data/train/TRAIN_00196.jpg\n",
      "../data/train/TRAIN_00197.jpg\n"
     ]
    },
    {
     "name": "stderr",
     "output_type": "stream",
     "text": [
      "41it [00:00, 62.72it/s]"
     ]
    },
    {
     "name": "stdout",
     "output_type": "stream",
     "text": [
      "../data/train/TRAIN_00198.jpg\n",
      "../data/train/TRAIN_00199.jpg\n",
      "../data/train/TRAIN_00200.jpg\n",
      "../data/train/TRAIN_00201.jpg\n",
      "../data/train/TRAIN_00202.jpg\n",
      "../data/train/TRAIN_00203.jpg\n",
      "../data/train/TRAIN_00204.jpg\n",
      "../data/train/TRAIN_00205.jpg\n",
      "../data/train/TRAIN_00206.jpg\n",
      "../data/train/TRAIN_00207.jpg\n",
      "../data/train/TRAIN_00208.jpg\n",
      "../data/train/TRAIN_00209.jpg\n",
      "../data/train/TRAIN_00210.jpg\n",
      "../data/train/TRAIN_00211.jpg\n",
      "../data/train/TRAIN_00212.jpg\n",
      "../data/train/TRAIN_00213.jpg\n",
      "../data/train/TRAIN_00214.jpg\n",
      "../data/train/TRAIN_00215.jpg\n"
     ]
    },
    {
     "name": "stderr",
     "output_type": "stream",
     "text": [
      "58it [00:01, 67.50it/s]"
     ]
    },
    {
     "name": "stdout",
     "output_type": "stream",
     "text": [
      "../data/train/TRAIN_22608.jpg\n",
      "../data/train/TRAIN_22609.jpg\n",
      "../data/train/TRAIN_22610.jpg\n",
      "../data/train/TRAIN_22611.jpg\n",
      "../data/train/TRAIN_22612.jpg\n",
      "../data/train/TRAIN_22613.jpg\n",
      "../data/train/TRAIN_22614.jpg\n",
      "../data/train/TRAIN_22615.jpg\n",
      "../data/train/TRAIN_22616.jpg\n",
      "../data/train/TRAIN_22617.jpg\n",
      "../data/train/TRAIN_22618.jpg\n",
      "../data/train/TRAIN_22619.jpg\n",
      "../data/train/TRAIN_22620.jpg\n",
      "../data/train/TRAIN_22621.jpg\n"
     ]
    },
    {
     "name": "stderr",
     "output_type": "stream",
     "text": [
      "74it [00:01, 69.48it/s]"
     ]
    },
    {
     "name": "stdout",
     "output_type": "stream",
     "text": [
      "../data/train/TRAIN_22622.jpg\n",
      "../data/train/TRAIN_22623.jpg\n",
      "../data/train/TRAIN_22624.jpg\n",
      "../data/train/TRAIN_22625.jpg\n",
      "../data/train/TRAIN_22626.jpg\n",
      "../data/train/TRAIN_22627.jpg\n",
      "../data/train/TRAIN_22628.jpg\n",
      "../data/train/TRAIN_22629.jpg\n",
      "../data/train/TRAIN_22630.jpg\n",
      "../data/train/TRAIN_22631.jpg\n",
      "../data/train/TRAIN_22632.jpg\n",
      "../data/train/TRAIN_22633.jpg\n",
      "../data/train/TRAIN_22634.jpg\n",
      "../data/train/TRAIN_22635.jpg\n",
      "../data/train/TRAIN_22636.jpg\n"
     ]
    },
    {
     "name": "stderr",
     "output_type": "stream",
     "text": [
      "82it [00:01, 69.38it/s]"
     ]
    },
    {
     "name": "stdout",
     "output_type": "stream",
     "text": [
      "../data/train/TRAIN_22637.jpg\n",
      "../data/train/TRAIN_22638.jpg\n",
      "../data/train/TRAIN_22639.jpg\n",
      "../data/train/TRAIN_22640.jpg\n",
      "../data/train/TRAIN_22641.jpg\n",
      "../data/train/TRAIN_22642.jpg\n",
      "../data/train/TRAIN_22643.jpg\n",
      "../data/train/TRAIN_22644.jpg\n",
      "../data/train/TRAIN_22645.jpg\n",
      "../data/train/TRAIN_22646.jpg\n"
     ]
    },
    {
     "name": "stderr",
     "output_type": "stream",
     "text": [
      "98it [00:02, 50.48it/s]"
     ]
    },
    {
     "name": "stdout",
     "output_type": "stream",
     "text": [
      "../data/train/TRAIN_22647.jpg\n",
      "../data/train/TRAIN_22648.jpg\n",
      "../data/train/TRAIN_22649.jpg\n",
      "../data/train/TRAIN_22650.jpg\n",
      "../data/train/TRAIN_22651.jpg\n",
      "../data/train/TRAIN_22652.jpg\n",
      "../data/train/TRAIN_22653.jpg\n",
      "../data/train/TRAIN_22654.jpg\n",
      "../data/train/TRAIN_22655.jpg\n",
      "../data/train/TRAIN_22656.jpg\n",
      "../data/train/TRAIN_22657.jpg\n",
      "../data/train/TRAIN_22658.jpg\n",
      "../data/train/TRAIN_22659.jpg\n"
     ]
    },
    {
     "name": "stderr",
     "output_type": "stream",
     "text": [
      "113it [00:02, 52.30it/s]"
     ]
    },
    {
     "name": "stdout",
     "output_type": "stream",
     "text": [
      "../data/train/TRAIN_22660.jpg\n",
      "../data/train/TRAIN_22661.jpg\n",
      "../data/train/TRAIN_22662.jpg\n",
      "../data/train/TRAIN_22663.jpg\n",
      "../data/train/TRAIN_22664.jpg\n",
      "../data/train/TRAIN_22665.jpg\n",
      "../data/train/TRAIN_22666.jpg\n",
      "../data/train/TRAIN_22667.jpg\n",
      "../data/train/TRAIN_22668.jpg\n",
      "../data/train/TRAIN_22669.jpg\n",
      "../data/train/TRAIN_22670.jpg\n",
      "../data/train/TRAIN_22671.jpg\n",
      "../data/train/TRAIN_22672.jpg\n",
      "../data/train/TRAIN_22673.jpg\n",
      "../data/train/TRAIN_22674.jpg\n",
      "../data/train/TRAIN_22675.jpg\n",
      "../data/train/TRAIN_22676.jpg\n"
     ]
    },
    {
     "name": "stderr",
     "output_type": "stream",
     "text": [
      "120it [00:02, 50.18it/s]\n"
     ]
    },
    {
     "name": "stdout",
     "output_type": "stream",
     "text": [
      "../data/train/TRAIN_22677.jpg\n",
      "../data/train/TRAIN_22678.jpg\n",
      "../data/train/TRAIN_22679.jpg\n"
     ]
    },
    {
     "name": "stderr",
     "output_type": "stream",
     "text": [
      "8it [00:00, 75.81it/s]"
     ]
    },
    {
     "name": "stdout",
     "output_type": "stream",
     "text": [
      "../data/train/TRAIN_00216.jpg\n",
      "../data/train/TRAIN_00217.jpg\n",
      "../data/train/TRAIN_00218.jpg\n",
      "../data/train/TRAIN_00219.jpg\n",
      "../data/train/TRAIN_00220.jpg\n",
      "../data/train/TRAIN_00221.jpg\n",
      "../data/train/TRAIN_00222.jpg\n",
      "../data/train/TRAIN_00223.jpg\n",
      "../data/train/TRAIN_00224.jpg\n",
      "../data/train/TRAIN_00225.jpg\n",
      "../data/train/TRAIN_00226.jpg\n",
      "../data/train/TRAIN_00227.jpg\n",
      "../data/train/TRAIN_00228.jpg\n",
      "../data/train/TRAIN_00229.jpg\n",
      "../data/train/TRAIN_00230.jpg\n",
      "../data/train/TRAIN_00231.jpg\n"
     ]
    },
    {
     "name": "stderr",
     "output_type": "stream",
     "text": [
      "16it [00:00, 74.82it/s]"
     ]
    },
    {
     "name": "stdout",
     "output_type": "stream",
     "text": [
      "../data/train/TRAIN_00232.jpg\n",
      "../data/train/TRAIN_00233.jpg\n",
      "../data/train/TRAIN_00234.jpg\n",
      "../data/train/TRAIN_00235.jpg\n",
      "../data/train/TRAIN_00236.jpg\n",
      "../data/train/TRAIN_00237.jpg\n",
      "../data/train/TRAIN_00238.jpg\n",
      "../data/train/TRAIN_00239.jpg\n"
     ]
    },
    {
     "name": "stderr",
     "output_type": "stream",
     "text": [
      "24it [00:00, 62.85it/s]"
     ]
    },
    {
     "name": "stdout",
     "output_type": "stream",
     "text": [
      "../data/train/TRAIN_22680.jpg\n",
      "../data/train/TRAIN_22681.jpg\n",
      "../data/train/TRAIN_22682.jpg\n",
      "../data/train/TRAIN_22683.jpg\n",
      "../data/train/TRAIN_22684.jpg\n"
     ]
    },
    {
     "name": "stderr",
     "output_type": "stream",
     "text": [
      "39it [00:00, 67.18it/s]"
     ]
    },
    {
     "name": "stdout",
     "output_type": "stream",
     "text": [
      "../data/train/TRAIN_22685.jpg\n",
      "../data/train/TRAIN_22686.jpg\n",
      "../data/train/TRAIN_22687.jpg\n",
      "../data/train/TRAIN_22688.jpg\n",
      "../data/train/TRAIN_22689.jpg\n",
      "../data/train/TRAIN_22690.jpg\n",
      "../data/train/TRAIN_22691.jpg\n",
      "../data/train/TRAIN_22692.jpg\n",
      "../data/train/TRAIN_22693.jpg\n",
      "../data/train/TRAIN_22694.jpg\n",
      "../data/train/TRAIN_22695.jpg\n",
      "../data/train/TRAIN_22696.jpg\n",
      "../data/train/TRAIN_22697.jpg\n",
      "../data/train/TRAIN_22698.jpg\n",
      "../data/train/TRAIN_22699.jpg\n"
     ]
    },
    {
     "name": "stderr",
     "output_type": "stream",
     "text": [
      "48it [00:00, 67.64it/s]\n"
     ]
    },
    {
     "name": "stdout",
     "output_type": "stream",
     "text": [
      "../data/train/TRAIN_22700.jpg\n",
      "../data/train/TRAIN_22701.jpg\n",
      "../data/train/TRAIN_22702.jpg\n",
      "../data/train/TRAIN_22703.jpg\n"
     ]
    },
    {
     "name": "stderr",
     "output_type": "stream",
     "text": [
      "0it [00:00, ?it/s]"
     ]
    },
    {
     "name": "stdout",
     "output_type": "stream",
     "text": [
      "../data/train/TRAIN_00240.jpg\n",
      "../data/train/TRAIN_00241.jpg\n",
      "../data/train/TRAIN_00242.jpg\n",
      "../data/train/TRAIN_00243.jpg\n",
      "../data/train/TRAIN_00244.jpg\n"
     ]
    },
    {
     "name": "stderr",
     "output_type": "stream",
     "text": [
      "8it [00:00, 72.39it/s]"
     ]
    },
    {
     "name": "stdout",
     "output_type": "stream",
     "text": [
      "../data/train/TRAIN_00245.jpg\n",
      "../data/train/TRAIN_00246.jpg\n",
      "../data/train/TRAIN_00247.jpg\n",
      "../data/train/TRAIN_00248.jpg\n",
      "../data/train/TRAIN_00249.jpg\n",
      "../data/train/TRAIN_00250.jpg\n",
      "../data/train/TRAIN_00251.jpg\n",
      "../data/train/TRAIN_00252.jpg\n",
      "../data/train/TRAIN_00253.jpg\n",
      "../data/train/TRAIN_00254.jpg\n"
     ]
    },
    {
     "name": "stderr",
     "output_type": "stream",
     "text": [
      "16it [00:00, 73.81it/s]"
     ]
    },
    {
     "name": "stdout",
     "output_type": "stream",
     "text": [
      "../data/train/TRAIN_00255.jpg\n",
      "../data/train/TRAIN_00256.jpg\n",
      "../data/train/TRAIN_00257.jpg\n",
      "../data/train/TRAIN_00258.jpg\n",
      "../data/train/TRAIN_00259.jpg\n",
      "../data/train/TRAIN_00260.jpg\n"
     ]
    },
    {
     "name": "stderr",
     "output_type": "stream",
     "text": [
      "24it [00:00, 73.23it/s]"
     ]
    },
    {
     "name": "stdout",
     "output_type": "stream",
     "text": [
      "../data/train/TRAIN_00261.jpg\n",
      "../data/train/TRAIN_00262.jpg\n",
      "../data/train/TRAIN_00263.jpg\n",
      "../data/train/TRAIN_22704.jpg\n",
      "../data/train/TRAIN_22705.jpg\n",
      "../data/train/TRAIN_22706.jpg\n",
      "../data/train/TRAIN_22707.jpg\n",
      "../data/train/TRAIN_22708.jpg"
     ]
    },
    {
     "name": "stderr",
     "output_type": "stream",
     "text": [
      "32it [00:00, 72.12it/s]"
     ]
    },
    {
     "name": "stdout",
     "output_type": "stream",
     "text": [
      "\n",
      "../data/train/TRAIN_22709.jpg\n",
      "../data/train/TRAIN_22710.jpg\n",
      "../data/train/TRAIN_22711.jpg\n",
      "../data/train/TRAIN_22712.jpg\n",
      "../data/train/TRAIN_22713.jpg\n",
      "../data/train/TRAIN_22714.jpg\n",
      "../data/train/TRAIN_22715.jpg\n",
      "../data/train/TRAIN_22716.jpg\n",
      "../data/train/TRAIN_22717.jpg\n"
     ]
    },
    {
     "name": "stderr",
     "output_type": "stream",
     "text": [
      "40it [00:00, 72.69it/s]"
     ]
    },
    {
     "name": "stdout",
     "output_type": "stream",
     "text": [
      "../data/train/TRAIN_22718.jpg\n",
      "../data/train/TRAIN_22719.jpg\n",
      "../data/train/TRAIN_22720.jpg\n",
      "../data/train/TRAIN_22721.jpg\n",
      "../data/train/TRAIN_22722.jpg\n",
      "../data/train/TRAIN_22723.jpg\n"
     ]
    },
    {
     "name": "stderr",
     "output_type": "stream",
     "text": [
      "48it [00:00, 72.59it/s]"
     ]
    },
    {
     "name": "stdout",
     "output_type": "stream",
     "text": [
      "../data/train/TRAIN_22724.jpg\n",
      "../data/train/TRAIN_22725.jpg\n",
      "../data/train/TRAIN_22726.jpg\n",
      "../data/train/TRAIN_22727.jpg\n",
      "../data/train/TRAIN_22728.jpg\n",
      "../data/train/TRAIN_22729.jpg\n",
      "../data/train/TRAIN_22730.jpg\n",
      "../data/train/TRAIN_22731.jpg\n",
      "../data/train/TRAIN_22732.jpg\n",
      "../data/train/TRAIN_22733.jpg\n"
     ]
    },
    {
     "name": "stderr",
     "output_type": "stream",
     "text": [
      "56it [00:00, 73.16it/s]"
     ]
    },
    {
     "name": "stdout",
     "output_type": "stream",
     "text": [
      "../data/train/TRAIN_22734.jpg\n",
      "../data/train/TRAIN_22735.jpg\n",
      "../data/train/TRAIN_22736.jpg\n",
      "../data/train/TRAIN_22737.jpg\n",
      "../data/train/TRAIN_22738.jpg\n",
      "../data/train/TRAIN_22739.jpg\n"
     ]
    },
    {
     "name": "stderr",
     "output_type": "stream",
     "text": [
      "64it [00:00, 72.08it/s]"
     ]
    },
    {
     "name": "stdout",
     "output_type": "stream",
     "text": [
      "../data/train/TRAIN_22740.jpg\n",
      "../data/train/TRAIN_22741.jpg\n",
      "../data/train/TRAIN_22742.jpg\n",
      "../data/train/TRAIN_22743.jpg\n",
      "../data/train/TRAIN_22744.jpg\n",
      "../data/train/TRAIN_22745.jpg\n",
      "../data/train/TRAIN_22746.jpg\n",
      "../data/train/TRAIN_22747.jpg\n",
      "../data/train/TRAIN_22748.jpg\n",
      "../data/train/TRAIN_22749.jpg\n",
      "../data/train/TRAIN_22750.jpg\n"
     ]
    },
    {
     "name": "stderr",
     "output_type": "stream",
     "text": [
      "72it [00:00, 72.29it/s]"
     ]
    },
    {
     "name": "stdout",
     "output_type": "stream",
     "text": [
      "../data/train/TRAIN_22751.jpg\n"
     ]
    },
    {
     "name": "stderr",
     "output_type": "stream",
     "text": [
      "\n"
     ]
    }
   ],
   "source": [
    "cnt = 0\n",
    "for label,folder in [(H_id,\"H_label\"), (I_id,\"I_label\"), (J_id,\"J_label\")]:\n",
    "    img_list = [f\"../data/train/{i}.jpg\" for i in label]\n",
    "    for img_l, background in tqdm(zip(img_list, bg_list[cnt:cnt+len(img_list)])):\n",
    "        # './train\\\\TRAIN_00999.jpg'\n",
    "        name = img_l[-15:]\n",
    "        num = int(name[-9:-4])\n",
    "        img = cv2.imread(img_l)\n",
    "        print(img_l)\n",
    "        if 31600 <= num <= 31711:\n",
    "            cv2.imwrite(f\"../data/H_label/{name}\", img)\n",
    "            continue\n",
    "\n",
    "        thresh = 230\n",
    "    \n",
    "        \n",
    "        img_bin = np.array(img[:, :, 0] < thresh, dtype=np.uint8) * 255\n",
    "        img_blur = cv2.medianBlur(img_bin, 5)\n",
    "        img_filter = img.copy()\n",
    "        img_filter[img_blur == 0] = 0\n",
    "\n",
    "        retval, labels, stats, centroids = cv2.connectedComponentsWithStats(img_blur)\n",
    "        stats = np.array(stats)\n",
    "        stats[0, -1] = 0\n",
    "        label_idx = np.argmax(stats[:, -1])\n",
    "        img_mask = labels == label_idx\n",
    "        img_final = img_filter.copy()\n",
    "        img_final[~img_mask] = (0, 0, 0)\n",
    "\n",
    "        img_back = cv2.resize(cv2.imread(background), img.shape[::-1][1:])\n",
    "        img_back[img_mask] = (0, 0, 0)\n",
    "        img_filter += img_back\n",
    "\n",
    "        \n",
    "        with open('./new_used_name.txt', 'a') as f:\n",
    "            f.write(f'{background}\\n')\n",
    "        cv2.imwrite(f\"../data/{folder}/{name}\", img_filter)\n",
    "    cnt += len(img_list)"
   ]
  },
  {
   "cell_type": "code",
   "execution_count": null,
   "metadata": {},
   "outputs": [],
   "source": []
  }
 ],
 "metadata": {
  "kernelspec": {
   "display_name": "myvenv",
   "language": "python",
   "name": "python3"
  },
  "language_info": {
   "codemirror_mode": {
    "name": "ipython",
    "version": 3
   },
   "file_extension": ".py",
   "mimetype": "text/x-python",
   "name": "python",
   "nbconvert_exporter": "python",
   "pygments_lexer": "ipython3",
   "version": "3.10.7"
  },
  "orig_nbformat": 4,
  "vscode": {
   "interpreter": {
    "hash": "d237e345f562da9ac6d0af92d4b6cd447951cedf1c9eefb6e9bf9729b17d0c58"
   }
  }
 },
 "nbformat": 4,
 "nbformat_minor": 2
}
